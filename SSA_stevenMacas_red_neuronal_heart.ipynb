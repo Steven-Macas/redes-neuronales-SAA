{
  "nbformat": 4,
  "nbformat_minor": 0,
  "metadata": {
    "colab": {
      "provenance": [],
      "include_colab_link": true
    },
    "kernelspec": {
      "name": "python3",
      "display_name": "Python 3"
    },
    "language_info": {
      "name": "python"
    }
  },
  "cells": [
    {
      "cell_type": "markdown",
      "metadata": {
        "id": "view-in-github",
        "colab_type": "text"
      },
      "source": [
        "<a href=\"https://colab.research.google.com/github/Steven-Macas/redes-neuronales-SAA/blob/main/SSA_stevenMacas_red_neuronal_heart.ipynb\" target=\"_parent\"><img src=\"https://colab.research.google.com/assets/colab-badge.svg\" alt=\"Open In Colab\"/></a>"
      ]
    },
    {
      "cell_type": "markdown",
      "source": [
        "# **Redes Neuronales**\n",
        "\n",
        "---"
      ],
      "metadata": {
        "id": "wLEJeNVfhaiY"
      }
    },
    {
      "cell_type": "markdown",
      "source": [
        "2. https://www.kaggle.com/datasets/fedesoriano/heart-failure-prediction. Clasificación binaria. El\n",
        "objetivo es clasificar entre presencia de enfermedad del corazón o no a partir de una serie de atributos\n",
        "(edad, sexo, colesterol, etc.). Para ello el dataset contiene una serie de datos pacientes etiquetados si\n",
        "tienen enfermedad o no."
      ],
      "metadata": {
        "id": "8oFvH0SmhmiH"
      }
    },
    {
      "cell_type": "markdown",
      "source": [
        "---\n",
        "\n",
        "# **A** -Importación de librerías"
      ],
      "metadata": {
        "id": "rN7F-xftqwJI"
      }
    },
    {
      "cell_type": "code",
      "source": [
        "!pip install keras tensorflow"
      ],
      "metadata": {
        "colab": {
          "base_uri": "https://localhost:8080/"
        },
        "id": "6FZKyc8CzhRR",
        "outputId": "7b2fa54c-a5b5-477c-bcd7-3e3fc8398e87"
      },
      "execution_count": 1,
      "outputs": [
        {
          "output_type": "stream",
          "name": "stdout",
          "text": [
            "Looking in indexes: https://pypi.org/simple, https://us-python.pkg.dev/colab-wheels/public/simple/\n",
            "Requirement already satisfied: keras in /usr/local/lib/python3.9/dist-packages (2.12.0)\n",
            "Requirement already satisfied: tensorflow in /usr/local/lib/python3.9/dist-packages (2.12.0)\n",
            "Requirement already satisfied: flatbuffers>=2.0 in /usr/local/lib/python3.9/dist-packages (from tensorflow) (23.3.3)\n",
            "Requirement already satisfied: jax>=0.3.15 in /usr/local/lib/python3.9/dist-packages (from tensorflow) (0.4.8)\n",
            "Requirement already satisfied: wrapt<1.15,>=1.11.0 in /usr/local/lib/python3.9/dist-packages (from tensorflow) (1.14.1)\n",
            "Requirement already satisfied: absl-py>=1.0.0 in /usr/local/lib/python3.9/dist-packages (from tensorflow) (1.4.0)\n",
            "Requirement already satisfied: typing-extensions>=3.6.6 in /usr/local/lib/python3.9/dist-packages (from tensorflow) (4.5.0)\n",
            "Requirement already satisfied: opt-einsum>=2.3.2 in /usr/local/lib/python3.9/dist-packages (from tensorflow) (3.3.0)\n",
            "Requirement already satisfied: google-pasta>=0.1.1 in /usr/local/lib/python3.9/dist-packages (from tensorflow) (0.2.0)\n",
            "Requirement already satisfied: protobuf!=4.21.0,!=4.21.1,!=4.21.2,!=4.21.3,!=4.21.4,!=4.21.5,<5.0.0dev,>=3.20.3 in /usr/local/lib/python3.9/dist-packages (from tensorflow) (3.20.3)\n",
            "Requirement already satisfied: tensorflow-estimator<2.13,>=2.12.0 in /usr/local/lib/python3.9/dist-packages (from tensorflow) (2.12.0)\n",
            "Requirement already satisfied: packaging in /usr/local/lib/python3.9/dist-packages (from tensorflow) (23.1)\n",
            "Requirement already satisfied: numpy<1.24,>=1.22 in /usr/local/lib/python3.9/dist-packages (from tensorflow) (1.22.4)\n",
            "Requirement already satisfied: termcolor>=1.1.0 in /usr/local/lib/python3.9/dist-packages (from tensorflow) (2.2.0)\n",
            "Requirement already satisfied: libclang>=13.0.0 in /usr/local/lib/python3.9/dist-packages (from tensorflow) (16.0.0)\n",
            "Requirement already satisfied: six>=1.12.0 in /usr/local/lib/python3.9/dist-packages (from tensorflow) (1.16.0)\n",
            "Requirement already satisfied: astunparse>=1.6.0 in /usr/local/lib/python3.9/dist-packages (from tensorflow) (1.6.3)\n",
            "Requirement already satisfied: gast<=0.4.0,>=0.2.1 in /usr/local/lib/python3.9/dist-packages (from tensorflow) (0.4.0)\n",
            "Requirement already satisfied: tensorboard<2.13,>=2.12 in /usr/local/lib/python3.9/dist-packages (from tensorflow) (2.12.2)\n",
            "Requirement already satisfied: tensorflow-io-gcs-filesystem>=0.23.1 in /usr/local/lib/python3.9/dist-packages (from tensorflow) (0.32.0)\n",
            "Requirement already satisfied: h5py>=2.9.0 in /usr/local/lib/python3.9/dist-packages (from tensorflow) (3.8.0)\n",
            "Requirement already satisfied: setuptools in /usr/local/lib/python3.9/dist-packages (from tensorflow) (67.7.1)\n",
            "Requirement already satisfied: grpcio<2.0,>=1.24.3 in /usr/local/lib/python3.9/dist-packages (from tensorflow) (1.53.0)\n",
            "Requirement already satisfied: wheel<1.0,>=0.23.0 in /usr/local/lib/python3.9/dist-packages (from astunparse>=1.6.0->tensorflow) (0.40.0)\n",
            "Requirement already satisfied: ml-dtypes>=0.0.3 in /usr/local/lib/python3.9/dist-packages (from jax>=0.3.15->tensorflow) (0.1.0)\n",
            "Requirement already satisfied: scipy>=1.7 in /usr/local/lib/python3.9/dist-packages (from jax>=0.3.15->tensorflow) (1.10.1)\n",
            "Requirement already satisfied: tensorboard-plugin-wit>=1.6.0 in /usr/local/lib/python3.9/dist-packages (from tensorboard<2.13,>=2.12->tensorflow) (1.8.1)\n",
            "Requirement already satisfied: requests<3,>=2.21.0 in /usr/local/lib/python3.9/dist-packages (from tensorboard<2.13,>=2.12->tensorflow) (2.27.1)\n",
            "Requirement already satisfied: tensorboard-data-server<0.8.0,>=0.7.0 in /usr/local/lib/python3.9/dist-packages (from tensorboard<2.13,>=2.12->tensorflow) (0.7.0)\n",
            "Requirement already satisfied: werkzeug>=1.0.1 in /usr/local/lib/python3.9/dist-packages (from tensorboard<2.13,>=2.12->tensorflow) (2.2.3)\n",
            "Requirement already satisfied: markdown>=2.6.8 in /usr/local/lib/python3.9/dist-packages (from tensorboard<2.13,>=2.12->tensorflow) (3.4.3)\n",
            "Requirement already satisfied: google-auth<3,>=1.6.3 in /usr/local/lib/python3.9/dist-packages (from tensorboard<2.13,>=2.12->tensorflow) (2.17.3)\n",
            "Requirement already satisfied: google-auth-oauthlib<1.1,>=0.5 in /usr/local/lib/python3.9/dist-packages (from tensorboard<2.13,>=2.12->tensorflow) (1.0.0)\n",
            "Requirement already satisfied: rsa<5,>=3.1.4 in /usr/local/lib/python3.9/dist-packages (from google-auth<3,>=1.6.3->tensorboard<2.13,>=2.12->tensorflow) (4.9)\n",
            "Requirement already satisfied: pyasn1-modules>=0.2.1 in /usr/local/lib/python3.9/dist-packages (from google-auth<3,>=1.6.3->tensorboard<2.13,>=2.12->tensorflow) (0.2.8)\n",
            "Requirement already satisfied: cachetools<6.0,>=2.0.0 in /usr/local/lib/python3.9/dist-packages (from google-auth<3,>=1.6.3->tensorboard<2.13,>=2.12->tensorflow) (5.3.0)\n",
            "Requirement already satisfied: requests-oauthlib>=0.7.0 in /usr/local/lib/python3.9/dist-packages (from google-auth-oauthlib<1.1,>=0.5->tensorboard<2.13,>=2.12->tensorflow) (1.3.1)\n",
            "Requirement already satisfied: importlib-metadata>=4.4 in /usr/local/lib/python3.9/dist-packages (from markdown>=2.6.8->tensorboard<2.13,>=2.12->tensorflow) (6.4.1)\n",
            "Requirement already satisfied: urllib3<1.27,>=1.21.1 in /usr/local/lib/python3.9/dist-packages (from requests<3,>=2.21.0->tensorboard<2.13,>=2.12->tensorflow) (1.26.15)\n",
            "Requirement already satisfied: charset-normalizer~=2.0.0 in /usr/local/lib/python3.9/dist-packages (from requests<3,>=2.21.0->tensorboard<2.13,>=2.12->tensorflow) (2.0.12)\n",
            "Requirement already satisfied: certifi>=2017.4.17 in /usr/local/lib/python3.9/dist-packages (from requests<3,>=2.21.0->tensorboard<2.13,>=2.12->tensorflow) (2022.12.7)\n",
            "Requirement already satisfied: idna<4,>=2.5 in /usr/local/lib/python3.9/dist-packages (from requests<3,>=2.21.0->tensorboard<2.13,>=2.12->tensorflow) (3.4)\n",
            "Requirement already satisfied: MarkupSafe>=2.1.1 in /usr/local/lib/python3.9/dist-packages (from werkzeug>=1.0.1->tensorboard<2.13,>=2.12->tensorflow) (2.1.2)\n",
            "Requirement already satisfied: zipp>=0.5 in /usr/local/lib/python3.9/dist-packages (from importlib-metadata>=4.4->markdown>=2.6.8->tensorboard<2.13,>=2.12->tensorflow) (3.15.0)\n",
            "Requirement already satisfied: pyasn1<0.5.0,>=0.4.6 in /usr/local/lib/python3.9/dist-packages (from pyasn1-modules>=0.2.1->google-auth<3,>=1.6.3->tensorboard<2.13,>=2.12->tensorflow) (0.4.8)\n",
            "Requirement already satisfied: oauthlib>=3.0.0 in /usr/local/lib/python3.9/dist-packages (from requests-oauthlib>=0.7.0->google-auth-oauthlib<1.1,>=0.5->tensorboard<2.13,>=2.12->tensorflow) (3.2.2)\n"
          ]
        }
      ]
    },
    {
      "cell_type": "code",
      "source": [
        "# instalación de librería gráfica para ver cómo evoluciona la función de pérdida\n",
        "!pip install livelossplot"
      ],
      "metadata": {
        "colab": {
          "base_uri": "https://localhost:8080/"
        },
        "id": "hXAUhJR3zhtL",
        "outputId": "b48fa3c0-145c-4c65-9ede-534b9bdb6816"
      },
      "execution_count": 2,
      "outputs": [
        {
          "output_type": "stream",
          "name": "stdout",
          "text": [
            "Looking in indexes: https://pypi.org/simple, https://us-python.pkg.dev/colab-wheels/public/simple/\n",
            "Collecting livelossplot\n",
            "  Downloading livelossplot-0.5.5-py3-none-any.whl (22 kB)\n",
            "Requirement already satisfied: bokeh in /usr/local/lib/python3.9/dist-packages (from livelossplot) (2.4.3)\n",
            "Requirement already satisfied: matplotlib in /usr/local/lib/python3.9/dist-packages (from livelossplot) (3.7.1)\n",
            "Requirement already satisfied: numpy>=1.11.3 in /usr/local/lib/python3.9/dist-packages (from bokeh->livelossplot) (1.22.4)\n",
            "Requirement already satisfied: PyYAML>=3.10 in /usr/local/lib/python3.9/dist-packages (from bokeh->livelossplot) (6.0)\n",
            "Requirement already satisfied: packaging>=16.8 in /usr/local/lib/python3.9/dist-packages (from bokeh->livelossplot) (23.1)\n",
            "Requirement already satisfied: Jinja2>=2.9 in /usr/local/lib/python3.9/dist-packages (from bokeh->livelossplot) (3.1.2)\n",
            "Requirement already satisfied: pillow>=7.1.0 in /usr/local/lib/python3.9/dist-packages (from bokeh->livelossplot) (8.4.0)\n",
            "Requirement already satisfied: tornado>=5.1 in /usr/local/lib/python3.9/dist-packages (from bokeh->livelossplot) (6.2)\n",
            "Requirement already satisfied: typing-extensions>=3.10.0 in /usr/local/lib/python3.9/dist-packages (from bokeh->livelossplot) (4.5.0)\n",
            "Requirement already satisfied: fonttools>=4.22.0 in /usr/local/lib/python3.9/dist-packages (from matplotlib->livelossplot) (4.39.3)\n",
            "Requirement already satisfied: importlib-resources>=3.2.0 in /usr/local/lib/python3.9/dist-packages (from matplotlib->livelossplot) (5.12.0)\n",
            "Requirement already satisfied: cycler>=0.10 in /usr/local/lib/python3.9/dist-packages (from matplotlib->livelossplot) (0.11.0)\n",
            "Requirement already satisfied: python-dateutil>=2.7 in /usr/local/lib/python3.9/dist-packages (from matplotlib->livelossplot) (2.8.2)\n",
            "Requirement already satisfied: pyparsing>=2.3.1 in /usr/local/lib/python3.9/dist-packages (from matplotlib->livelossplot) (3.0.9)\n",
            "Requirement already satisfied: kiwisolver>=1.0.1 in /usr/local/lib/python3.9/dist-packages (from matplotlib->livelossplot) (1.4.4)\n",
            "Requirement already satisfied: contourpy>=1.0.1 in /usr/local/lib/python3.9/dist-packages (from matplotlib->livelossplot) (1.0.7)\n",
            "Requirement already satisfied: zipp>=3.1.0 in /usr/local/lib/python3.9/dist-packages (from importlib-resources>=3.2.0->matplotlib->livelossplot) (3.15.0)\n",
            "Requirement already satisfied: MarkupSafe>=2.0 in /usr/local/lib/python3.9/dist-packages (from Jinja2>=2.9->bokeh->livelossplot) (2.1.2)\n",
            "Requirement already satisfied: six>=1.5 in /usr/local/lib/python3.9/dist-packages (from python-dateutil>=2.7->matplotlib->livelossplot) (1.16.0)\n",
            "Installing collected packages: livelossplot\n",
            "Successfully installed livelossplot-0.5.5\n"
          ]
        }
      ]
    },
    {
      "cell_type": "code",
      "source": [
        "#Importamos las librerias necesarias\n",
        "import numpy as np\n",
        "import pandas as pd\n",
        "import seaborn as sns\n",
        "import matplotlib.pyplot as plt #Para el mapa de calor, hacer celdas grandes\n",
        "from sklearn.model_selection import train_test_split\n",
        "from sklearn.naive_bayes import GaussianNB\n",
        "from sklearn.naive_bayes import MultinomialNB\n",
        "from sklearn.naive_bayes import ComplementNB\n",
        "from sklearn.metrics import accuracy_score\n",
        "from sklearn.metrics import ConfusionMatrixDisplay\n",
        "from tensorflow.keras.utils import to_categorical\n",
        "from sklearn.preprocessing import StandardScaler\n",
        "from keras.models import Sequential\n",
        "from keras.layers import Dense\n",
        "import tensorflow as tf\n",
        "from tensorflow import keras\n",
        "import tensorflow as tf # importación de módulos de keras y gráficos\n",
        "from IPython.display import SVG\n",
        "import livelossplot\n",
        "import math"
      ],
      "metadata": {
        "id": "bUsw2a8PfO7h"
      },
      "execution_count": 3,
      "outputs": []
    },
    {
      "cell_type": "markdown",
      "source": [
        "---\n",
        "\n",
        "\n",
        "# **B** - Preproceso"
      ],
      "metadata": {
        "id": "0OtCMWUYq2IH"
      }
    },
    {
      "cell_type": "code",
      "execution_count": 4,
      "metadata": {
        "id": "2IqfhjFTdGpt"
      },
      "outputs": [],
      "source": [
        "data2 = pd.read_csv('heart.csv') #Dataset del heart"
      ]
    },
    {
      "cell_type": "markdown",
      "source": [
        "\n",
        "\n",
        "---\n",
        "\n"
      ],
      "metadata": {
        "id": "vr9Y87SjrRHn"
      }
    },
    {
      "cell_type": "code",
      "source": [
        "data2.head()"
      ],
      "metadata": {
        "colab": {
          "base_uri": "https://localhost:8080/",
          "height": 206
        },
        "id": "0ga3GaQFs4jh",
        "outputId": "ae5c42bf-3de3-411a-fa69-cde6fad2edbf"
      },
      "execution_count": null,
      "outputs": [
        {
          "output_type": "execute_result",
          "data": {
            "text/plain": [
              "   Age Sex ChestPainType  RestingBP  Cholesterol  FastingBS RestingECG  MaxHR  \\\n",
              "0   40   M           ATA        140          289          0     Normal    172   \n",
              "1   49   F           NAP        160          180          0     Normal    156   \n",
              "2   37   M           ATA        130          283          0         ST     98   \n",
              "3   48   F           ASY        138          214          0     Normal    108   \n",
              "4   54   M           NAP        150          195          0     Normal    122   \n",
              "\n",
              "  ExerciseAngina  Oldpeak ST_Slope  HeartDisease  \n",
              "0              N      0.0       Up             0  \n",
              "1              N      1.0     Flat             1  \n",
              "2              N      0.0       Up             0  \n",
              "3              Y      1.5     Flat             1  \n",
              "4              N      0.0       Up             0  "
            ],
            "text/html": [
              "\n",
              "  <div id=\"df-01fdde2a-9693-47d9-ba62-6acfa12ce50f\">\n",
              "    <div class=\"colab-df-container\">\n",
              "      <div>\n",
              "<style scoped>\n",
              "    .dataframe tbody tr th:only-of-type {\n",
              "        vertical-align: middle;\n",
              "    }\n",
              "\n",
              "    .dataframe tbody tr th {\n",
              "        vertical-align: top;\n",
              "    }\n",
              "\n",
              "    .dataframe thead th {\n",
              "        text-align: right;\n",
              "    }\n",
              "</style>\n",
              "<table border=\"1\" class=\"dataframe\">\n",
              "  <thead>\n",
              "    <tr style=\"text-align: right;\">\n",
              "      <th></th>\n",
              "      <th>Age</th>\n",
              "      <th>Sex</th>\n",
              "      <th>ChestPainType</th>\n",
              "      <th>RestingBP</th>\n",
              "      <th>Cholesterol</th>\n",
              "      <th>FastingBS</th>\n",
              "      <th>RestingECG</th>\n",
              "      <th>MaxHR</th>\n",
              "      <th>ExerciseAngina</th>\n",
              "      <th>Oldpeak</th>\n",
              "      <th>ST_Slope</th>\n",
              "      <th>HeartDisease</th>\n",
              "    </tr>\n",
              "  </thead>\n",
              "  <tbody>\n",
              "    <tr>\n",
              "      <th>0</th>\n",
              "      <td>40</td>\n",
              "      <td>M</td>\n",
              "      <td>ATA</td>\n",
              "      <td>140</td>\n",
              "      <td>289</td>\n",
              "      <td>0</td>\n",
              "      <td>Normal</td>\n",
              "      <td>172</td>\n",
              "      <td>N</td>\n",
              "      <td>0.0</td>\n",
              "      <td>Up</td>\n",
              "      <td>0</td>\n",
              "    </tr>\n",
              "    <tr>\n",
              "      <th>1</th>\n",
              "      <td>49</td>\n",
              "      <td>F</td>\n",
              "      <td>NAP</td>\n",
              "      <td>160</td>\n",
              "      <td>180</td>\n",
              "      <td>0</td>\n",
              "      <td>Normal</td>\n",
              "      <td>156</td>\n",
              "      <td>N</td>\n",
              "      <td>1.0</td>\n",
              "      <td>Flat</td>\n",
              "      <td>1</td>\n",
              "    </tr>\n",
              "    <tr>\n",
              "      <th>2</th>\n",
              "      <td>37</td>\n",
              "      <td>M</td>\n",
              "      <td>ATA</td>\n",
              "      <td>130</td>\n",
              "      <td>283</td>\n",
              "      <td>0</td>\n",
              "      <td>ST</td>\n",
              "      <td>98</td>\n",
              "      <td>N</td>\n",
              "      <td>0.0</td>\n",
              "      <td>Up</td>\n",
              "      <td>0</td>\n",
              "    </tr>\n",
              "    <tr>\n",
              "      <th>3</th>\n",
              "      <td>48</td>\n",
              "      <td>F</td>\n",
              "      <td>ASY</td>\n",
              "      <td>138</td>\n",
              "      <td>214</td>\n",
              "      <td>0</td>\n",
              "      <td>Normal</td>\n",
              "      <td>108</td>\n",
              "      <td>Y</td>\n",
              "      <td>1.5</td>\n",
              "      <td>Flat</td>\n",
              "      <td>1</td>\n",
              "    </tr>\n",
              "    <tr>\n",
              "      <th>4</th>\n",
              "      <td>54</td>\n",
              "      <td>M</td>\n",
              "      <td>NAP</td>\n",
              "      <td>150</td>\n",
              "      <td>195</td>\n",
              "      <td>0</td>\n",
              "      <td>Normal</td>\n",
              "      <td>122</td>\n",
              "      <td>N</td>\n",
              "      <td>0.0</td>\n",
              "      <td>Up</td>\n",
              "      <td>0</td>\n",
              "    </tr>\n",
              "  </tbody>\n",
              "</table>\n",
              "</div>\n",
              "      <button class=\"colab-df-convert\" onclick=\"convertToInteractive('df-01fdde2a-9693-47d9-ba62-6acfa12ce50f')\"\n",
              "              title=\"Convert this dataframe to an interactive table.\"\n",
              "              style=\"display:none;\">\n",
              "        \n",
              "  <svg xmlns=\"http://www.w3.org/2000/svg\" height=\"24px\"viewBox=\"0 0 24 24\"\n",
              "       width=\"24px\">\n",
              "    <path d=\"M0 0h24v24H0V0z\" fill=\"none\"/>\n",
              "    <path d=\"M18.56 5.44l.94 2.06.94-2.06 2.06-.94-2.06-.94-.94-2.06-.94 2.06-2.06.94zm-11 1L8.5 8.5l.94-2.06 2.06-.94-2.06-.94L8.5 2.5l-.94 2.06-2.06.94zm10 10l.94 2.06.94-2.06 2.06-.94-2.06-.94-.94-2.06-.94 2.06-2.06.94z\"/><path d=\"M17.41 7.96l-1.37-1.37c-.4-.4-.92-.59-1.43-.59-.52 0-1.04.2-1.43.59L10.3 9.45l-7.72 7.72c-.78.78-.78 2.05 0 2.83L4 21.41c.39.39.9.59 1.41.59.51 0 1.02-.2 1.41-.59l7.78-7.78 2.81-2.81c.8-.78.8-2.07 0-2.86zM5.41 20L4 18.59l7.72-7.72 1.47 1.35L5.41 20z\"/>\n",
              "  </svg>\n",
              "      </button>\n",
              "      \n",
              "  <style>\n",
              "    .colab-df-container {\n",
              "      display:flex;\n",
              "      flex-wrap:wrap;\n",
              "      gap: 12px;\n",
              "    }\n",
              "\n",
              "    .colab-df-convert {\n",
              "      background-color: #E8F0FE;\n",
              "      border: none;\n",
              "      border-radius: 50%;\n",
              "      cursor: pointer;\n",
              "      display: none;\n",
              "      fill: #1967D2;\n",
              "      height: 32px;\n",
              "      padding: 0 0 0 0;\n",
              "      width: 32px;\n",
              "    }\n",
              "\n",
              "    .colab-df-convert:hover {\n",
              "      background-color: #E2EBFA;\n",
              "      box-shadow: 0px 1px 2px rgba(60, 64, 67, 0.3), 0px 1px 3px 1px rgba(60, 64, 67, 0.15);\n",
              "      fill: #174EA6;\n",
              "    }\n",
              "\n",
              "    [theme=dark] .colab-df-convert {\n",
              "      background-color: #3B4455;\n",
              "      fill: #D2E3FC;\n",
              "    }\n",
              "\n",
              "    [theme=dark] .colab-df-convert:hover {\n",
              "      background-color: #434B5C;\n",
              "      box-shadow: 0px 1px 3px 1px rgba(0, 0, 0, 0.15);\n",
              "      filter: drop-shadow(0px 1px 2px rgba(0, 0, 0, 0.3));\n",
              "      fill: #FFFFFF;\n",
              "    }\n",
              "  </style>\n",
              "\n",
              "      <script>\n",
              "        const buttonEl =\n",
              "          document.querySelector('#df-01fdde2a-9693-47d9-ba62-6acfa12ce50f button.colab-df-convert');\n",
              "        buttonEl.style.display =\n",
              "          google.colab.kernel.accessAllowed ? 'block' : 'none';\n",
              "\n",
              "        async function convertToInteractive(key) {\n",
              "          const element = document.querySelector('#df-01fdde2a-9693-47d9-ba62-6acfa12ce50f');\n",
              "          const dataTable =\n",
              "            await google.colab.kernel.invokeFunction('convertToInteractive',\n",
              "                                                     [key], {});\n",
              "          if (!dataTable) return;\n",
              "\n",
              "          const docLinkHtml = 'Like what you see? Visit the ' +\n",
              "            '<a target=\"_blank\" href=https://colab.research.google.com/notebooks/data_table.ipynb>data table notebook</a>'\n",
              "            + ' to learn more about interactive tables.';\n",
              "          element.innerHTML = '';\n",
              "          dataTable['output_type'] = 'display_data';\n",
              "          await google.colab.output.renderOutput(dataTable, element);\n",
              "          const docLink = document.createElement('div');\n",
              "          docLink.innerHTML = docLinkHtml;\n",
              "          element.appendChild(docLink);\n",
              "        }\n",
              "      </script>\n",
              "    </div>\n",
              "  </div>\n",
              "  "
            ]
          },
          "metadata": {},
          "execution_count": 61
        }
      ]
    },
    {
      "cell_type": "code",
      "source": [
        "data2.tail()"
      ],
      "metadata": {
        "colab": {
          "base_uri": "https://localhost:8080/",
          "height": 206
        },
        "id": "gjiDRwIStB4Q",
        "outputId": "aaf82c2a-a16b-49b8-d797-b0c789d624d1"
      },
      "execution_count": null,
      "outputs": [
        {
          "output_type": "execute_result",
          "data": {
            "text/plain": [
              "     Age  Sex  ChestPainType  RestingBP  Cholesterol  FastingBS  RestingECG  \\\n",
              "913   45    1              4        110          264          0           1   \n",
              "914   68    1              3        144          193          1           1   \n",
              "915   57    1              3        130          131          0           1   \n",
              "916   57    2              1        130          236          0           2   \n",
              "917   38    1              2        138          175          0           1   \n",
              "\n",
              "     MaxHR  ExerciseAngina  Oldpeak  ST_Slope  HeartDisease  \n",
              "913    132               0      1.2       1.0             1  \n",
              "914    141               0      3.4       1.0             1  \n",
              "915    115               1      1.2       1.0             1  \n",
              "916    174               0      0.0       1.0             1  \n",
              "917    173               0      0.0       0.0             0  "
            ],
            "text/html": [
              "\n",
              "  <div id=\"df-e6796fba-27d5-4c31-b0fa-47c71fbaa6c2\">\n",
              "    <div class=\"colab-df-container\">\n",
              "      <div>\n",
              "<style scoped>\n",
              "    .dataframe tbody tr th:only-of-type {\n",
              "        vertical-align: middle;\n",
              "    }\n",
              "\n",
              "    .dataframe tbody tr th {\n",
              "        vertical-align: top;\n",
              "    }\n",
              "\n",
              "    .dataframe thead th {\n",
              "        text-align: right;\n",
              "    }\n",
              "</style>\n",
              "<table border=\"1\" class=\"dataframe\">\n",
              "  <thead>\n",
              "    <tr style=\"text-align: right;\">\n",
              "      <th></th>\n",
              "      <th>Age</th>\n",
              "      <th>Sex</th>\n",
              "      <th>ChestPainType</th>\n",
              "      <th>RestingBP</th>\n",
              "      <th>Cholesterol</th>\n",
              "      <th>FastingBS</th>\n",
              "      <th>RestingECG</th>\n",
              "      <th>MaxHR</th>\n",
              "      <th>ExerciseAngina</th>\n",
              "      <th>Oldpeak</th>\n",
              "      <th>ST_Slope</th>\n",
              "      <th>HeartDisease</th>\n",
              "    </tr>\n",
              "  </thead>\n",
              "  <tbody>\n",
              "    <tr>\n",
              "      <th>913</th>\n",
              "      <td>45</td>\n",
              "      <td>1</td>\n",
              "      <td>4</td>\n",
              "      <td>110</td>\n",
              "      <td>264</td>\n",
              "      <td>0</td>\n",
              "      <td>1</td>\n",
              "      <td>132</td>\n",
              "      <td>0</td>\n",
              "      <td>1.2</td>\n",
              "      <td>1.0</td>\n",
              "      <td>1</td>\n",
              "    </tr>\n",
              "    <tr>\n",
              "      <th>914</th>\n",
              "      <td>68</td>\n",
              "      <td>1</td>\n",
              "      <td>3</td>\n",
              "      <td>144</td>\n",
              "      <td>193</td>\n",
              "      <td>1</td>\n",
              "      <td>1</td>\n",
              "      <td>141</td>\n",
              "      <td>0</td>\n",
              "      <td>3.4</td>\n",
              "      <td>1.0</td>\n",
              "      <td>1</td>\n",
              "    </tr>\n",
              "    <tr>\n",
              "      <th>915</th>\n",
              "      <td>57</td>\n",
              "      <td>1</td>\n",
              "      <td>3</td>\n",
              "      <td>130</td>\n",
              "      <td>131</td>\n",
              "      <td>0</td>\n",
              "      <td>1</td>\n",
              "      <td>115</td>\n",
              "      <td>1</td>\n",
              "      <td>1.2</td>\n",
              "      <td>1.0</td>\n",
              "      <td>1</td>\n",
              "    </tr>\n",
              "    <tr>\n",
              "      <th>916</th>\n",
              "      <td>57</td>\n",
              "      <td>2</td>\n",
              "      <td>1</td>\n",
              "      <td>130</td>\n",
              "      <td>236</td>\n",
              "      <td>0</td>\n",
              "      <td>2</td>\n",
              "      <td>174</td>\n",
              "      <td>0</td>\n",
              "      <td>0.0</td>\n",
              "      <td>1.0</td>\n",
              "      <td>1</td>\n",
              "    </tr>\n",
              "    <tr>\n",
              "      <th>917</th>\n",
              "      <td>38</td>\n",
              "      <td>1</td>\n",
              "      <td>2</td>\n",
              "      <td>138</td>\n",
              "      <td>175</td>\n",
              "      <td>0</td>\n",
              "      <td>1</td>\n",
              "      <td>173</td>\n",
              "      <td>0</td>\n",
              "      <td>0.0</td>\n",
              "      <td>0.0</td>\n",
              "      <td>0</td>\n",
              "    </tr>\n",
              "  </tbody>\n",
              "</table>\n",
              "</div>\n",
              "      <button class=\"colab-df-convert\" onclick=\"convertToInteractive('df-e6796fba-27d5-4c31-b0fa-47c71fbaa6c2')\"\n",
              "              title=\"Convert this dataframe to an interactive table.\"\n",
              "              style=\"display:none;\">\n",
              "        \n",
              "  <svg xmlns=\"http://www.w3.org/2000/svg\" height=\"24px\"viewBox=\"0 0 24 24\"\n",
              "       width=\"24px\">\n",
              "    <path d=\"M0 0h24v24H0V0z\" fill=\"none\"/>\n",
              "    <path d=\"M18.56 5.44l.94 2.06.94-2.06 2.06-.94-2.06-.94-.94-2.06-.94 2.06-2.06.94zm-11 1L8.5 8.5l.94-2.06 2.06-.94-2.06-.94L8.5 2.5l-.94 2.06-2.06.94zm10 10l.94 2.06.94-2.06 2.06-.94-2.06-.94-.94-2.06-.94 2.06-2.06.94z\"/><path d=\"M17.41 7.96l-1.37-1.37c-.4-.4-.92-.59-1.43-.59-.52 0-1.04.2-1.43.59L10.3 9.45l-7.72 7.72c-.78.78-.78 2.05 0 2.83L4 21.41c.39.39.9.59 1.41.59.51 0 1.02-.2 1.41-.59l7.78-7.78 2.81-2.81c.8-.78.8-2.07 0-2.86zM5.41 20L4 18.59l7.72-7.72 1.47 1.35L5.41 20z\"/>\n",
              "  </svg>\n",
              "      </button>\n",
              "      \n",
              "  <style>\n",
              "    .colab-df-container {\n",
              "      display:flex;\n",
              "      flex-wrap:wrap;\n",
              "      gap: 12px;\n",
              "    }\n",
              "\n",
              "    .colab-df-convert {\n",
              "      background-color: #E8F0FE;\n",
              "      border: none;\n",
              "      border-radius: 50%;\n",
              "      cursor: pointer;\n",
              "      display: none;\n",
              "      fill: #1967D2;\n",
              "      height: 32px;\n",
              "      padding: 0 0 0 0;\n",
              "      width: 32px;\n",
              "    }\n",
              "\n",
              "    .colab-df-convert:hover {\n",
              "      background-color: #E2EBFA;\n",
              "      box-shadow: 0px 1px 2px rgba(60, 64, 67, 0.3), 0px 1px 3px 1px rgba(60, 64, 67, 0.15);\n",
              "      fill: #174EA6;\n",
              "    }\n",
              "\n",
              "    [theme=dark] .colab-df-convert {\n",
              "      background-color: #3B4455;\n",
              "      fill: #D2E3FC;\n",
              "    }\n",
              "\n",
              "    [theme=dark] .colab-df-convert:hover {\n",
              "      background-color: #434B5C;\n",
              "      box-shadow: 0px 1px 3px 1px rgba(0, 0, 0, 0.15);\n",
              "      filter: drop-shadow(0px 1px 2px rgba(0, 0, 0, 0.3));\n",
              "      fill: #FFFFFF;\n",
              "    }\n",
              "  </style>\n",
              "\n",
              "      <script>\n",
              "        const buttonEl =\n",
              "          document.querySelector('#df-e6796fba-27d5-4c31-b0fa-47c71fbaa6c2 button.colab-df-convert');\n",
              "        buttonEl.style.display =\n",
              "          google.colab.kernel.accessAllowed ? 'block' : 'none';\n",
              "\n",
              "        async function convertToInteractive(key) {\n",
              "          const element = document.querySelector('#df-e6796fba-27d5-4c31-b0fa-47c71fbaa6c2');\n",
              "          const dataTable =\n",
              "            await google.colab.kernel.invokeFunction('convertToInteractive',\n",
              "                                                     [key], {});\n",
              "          if (!dataTable) return;\n",
              "\n",
              "          const docLinkHtml = 'Like what you see? Visit the ' +\n",
              "            '<a target=\"_blank\" href=https://colab.research.google.com/notebooks/data_table.ipynb>data table notebook</a>'\n",
              "            + ' to learn more about interactive tables.';\n",
              "          element.innerHTML = '';\n",
              "          dataTable['output_type'] = 'display_data';\n",
              "          await google.colab.output.renderOutput(dataTable, element);\n",
              "          const docLink = document.createElement('div');\n",
              "          docLink.innerHTML = docLinkHtml;\n",
              "          element.appendChild(docLink);\n",
              "        }\n",
              "      </script>\n",
              "    </div>\n",
              "  </div>\n",
              "  "
            ]
          },
          "metadata": {},
          "execution_count": 44
        }
      ]
    },
    {
      "cell_type": "code",
      "source": [
        "data2.dtypes"
      ],
      "metadata": {
        "colab": {
          "base_uri": "https://localhost:8080/"
        },
        "id": "v3DpM3pt1kgr",
        "outputId": "d29521ab-f6fa-4f4a-8682-8bff1104cb95"
      },
      "execution_count": null,
      "outputs": [
        {
          "output_type": "execute_result",
          "data": {
            "text/plain": [
              "Age                 int64\n",
              "Sex                object\n",
              "ChestPainType      object\n",
              "RestingBP           int64\n",
              "Cholesterol         int64\n",
              "FastingBS           int64\n",
              "RestingECG         object\n",
              "MaxHR               int64\n",
              "ExerciseAngina     object\n",
              "Oldpeak           float64\n",
              "ST_Slope           object\n",
              "HeartDisease        int64\n",
              "dtype: object"
            ]
          },
          "metadata": {},
          "execution_count": 69
        }
      ]
    },
    {
      "cell_type": "markdown",
      "source": [
        "Cambiar valores\n",
        "\n",
        "Columna sex \n",
        "\n",
        "M = 1\n",
        "\n",
        "F = 2\n",
        "\n",
        "Columna ChestPainType \n",
        "\n",
        "ATA = 1\n",
        "\n",
        "NAP = 2\n",
        "\n",
        "ASY = 3\n",
        "\n",
        "TA = 4\n",
        "\n",
        "Columna RestingEGC \n",
        "\n",
        "Normal = 1\n",
        "\n",
        "ST = 0\n",
        "\n",
        "LVH = 2\n",
        "\n",
        "Columna ExerciseAngine \n",
        "\n",
        "N = 0\n",
        "\n",
        "Y = 1\n",
        "\n",
        "Columna ST_Slope \n",
        "\n",
        "Down = 2\n",
        "\n",
        "Up = 1\n",
        "\n",
        "Flat = 0"
      ],
      "metadata": {
        "id": "ZTIi7AKs28Nq"
      }
    },
    {
      "cell_type": "code",
      "source": [
        "data2 = data2.replace('M', '1', regex=True)\n",
        "data2 = data2.replace('F', '2', regex=True)\n",
        "data2['Sex'] = pd.to_numeric(data2['Sex'],errors='coerce')\n",
        "\n",
        "data2 = data2.replace('ATA', '1', regex=True)\n",
        "data2 = data2.replace('NAP', '2', regex=True)\n",
        "data2 = data2.replace('ASY', '3', regex=True)\n",
        "data2 = data2.replace('TA', '4', regex=True)\n",
        "data2['ChestPainType'] = pd.to_numeric(data2['ChestPainType'],errors='coerce')\n",
        "\n",
        "data2 = data2.replace('Normal', '1', regex=True)\n",
        "data2 = data2.replace('ST', '0', regex=True)\n",
        "data2 = data2.replace('LVH', '2', regex=True)\n",
        "data2['RestingECG'] = pd.to_numeric(data2['RestingECG'],errors='coerce')\n",
        "\n",
        "data2['ST_Slope'] = data2['ST_Slope'].map({'Up': '0',\n",
        "                                           '2lat':'1',\n",
        "                                           'Down':'2',\n",
        "                                           np.nan:'1'},\n",
        "                                          na_action = None)\n",
        "data2['ST_Slope'] = pd.to_numeric(data2['ST_Slope'],errors='coerce')\n",
        "\n",
        "data2 = data2.replace('Y', '1', regex=True)\n",
        "data2 = data2.replace('N', '0', regex=True)\n",
        "data2['ExerciseAngina'] = pd.to_numeric(data2['ExerciseAngina'],errors='coerce')"
      ],
      "metadata": {
        "id": "5nV5TFQm7XYP"
      },
      "execution_count": 5,
      "outputs": []
    },
    {
      "cell_type": "markdown",
      "source": [
        "\n",
        "\n",
        "---\n",
        "\n"
      ],
      "metadata": {
        "id": "g-D03uUFrPTH"
      }
    },
    {
      "cell_type": "code",
      "source": [
        "data2.describe()"
      ],
      "metadata": {
        "colab": {
          "base_uri": "https://localhost:8080/",
          "height": 300
        },
        "id": "m4DtB4pXtONF",
        "outputId": "fc87c3fd-6f3a-4213-fd8b-a97780bae8db"
      },
      "execution_count": null,
      "outputs": [
        {
          "output_type": "execute_result",
          "data": {
            "text/plain": [
              "              Age         Sex  ChestPainType   RestingBP  Cholesterol  \\\n",
              "count  918.000000  918.000000     918.000000  918.000000   918.000000   \n",
              "mean    53.510893    1.210240       2.452070  132.396514   198.799564   \n",
              "std      9.432617    0.407701       0.851832   18.514154   109.384145   \n",
              "min     28.000000    1.000000       1.000000    0.000000     0.000000   \n",
              "25%     47.000000    1.000000       2.000000  120.000000   173.250000   \n",
              "50%     54.000000    1.000000       3.000000  130.000000   223.000000   \n",
              "75%     60.000000    1.000000       3.000000  140.000000   267.000000   \n",
              "max     77.000000    2.000000       4.000000  200.000000   603.000000   \n",
              "\n",
              "        FastingBS  RestingECG       MaxHR  ExerciseAngina     Oldpeak  \\\n",
              "count  918.000000  918.000000  918.000000      918.000000  918.000000   \n",
              "mean     0.233115    1.010893  136.809368        0.404139    0.887364   \n",
              "std      0.423046    0.631671   25.460334        0.490992    1.066570   \n",
              "min      0.000000    0.000000   60.000000        0.000000   -2.600000   \n",
              "25%      0.000000    1.000000  120.000000        0.000000    0.000000   \n",
              "50%      0.000000    1.000000  138.000000        0.000000    0.600000   \n",
              "75%      0.000000    1.000000  156.000000        1.000000    1.500000   \n",
              "max      1.000000    2.000000  202.000000        1.000000    6.200000   \n",
              "\n",
              "         ST_Slope  HeartDisease  \n",
              "count  918.000000    918.000000  \n",
              "mean     0.638344      0.553377  \n",
              "std      0.607056      0.497414  \n",
              "min      0.000000      0.000000  \n",
              "25%      0.000000      0.000000  \n",
              "50%      1.000000      1.000000  \n",
              "75%      1.000000      1.000000  \n",
              "max      2.000000      1.000000  "
            ],
            "text/html": [
              "\n",
              "  <div id=\"df-ece97f4e-4c85-47de-9b0e-58de20e0afab\">\n",
              "    <div class=\"colab-df-container\">\n",
              "      <div>\n",
              "<style scoped>\n",
              "    .dataframe tbody tr th:only-of-type {\n",
              "        vertical-align: middle;\n",
              "    }\n",
              "\n",
              "    .dataframe tbody tr th {\n",
              "        vertical-align: top;\n",
              "    }\n",
              "\n",
              "    .dataframe thead th {\n",
              "        text-align: right;\n",
              "    }\n",
              "</style>\n",
              "<table border=\"1\" class=\"dataframe\">\n",
              "  <thead>\n",
              "    <tr style=\"text-align: right;\">\n",
              "      <th></th>\n",
              "      <th>Age</th>\n",
              "      <th>Sex</th>\n",
              "      <th>ChestPainType</th>\n",
              "      <th>RestingBP</th>\n",
              "      <th>Cholesterol</th>\n",
              "      <th>FastingBS</th>\n",
              "      <th>RestingECG</th>\n",
              "      <th>MaxHR</th>\n",
              "      <th>ExerciseAngina</th>\n",
              "      <th>Oldpeak</th>\n",
              "      <th>ST_Slope</th>\n",
              "      <th>HeartDisease</th>\n",
              "    </tr>\n",
              "  </thead>\n",
              "  <tbody>\n",
              "    <tr>\n",
              "      <th>count</th>\n",
              "      <td>918.000000</td>\n",
              "      <td>918.000000</td>\n",
              "      <td>918.000000</td>\n",
              "      <td>918.000000</td>\n",
              "      <td>918.000000</td>\n",
              "      <td>918.000000</td>\n",
              "      <td>918.000000</td>\n",
              "      <td>918.000000</td>\n",
              "      <td>918.000000</td>\n",
              "      <td>918.000000</td>\n",
              "      <td>918.000000</td>\n",
              "      <td>918.000000</td>\n",
              "    </tr>\n",
              "    <tr>\n",
              "      <th>mean</th>\n",
              "      <td>53.510893</td>\n",
              "      <td>1.210240</td>\n",
              "      <td>2.452070</td>\n",
              "      <td>132.396514</td>\n",
              "      <td>198.799564</td>\n",
              "      <td>0.233115</td>\n",
              "      <td>1.010893</td>\n",
              "      <td>136.809368</td>\n",
              "      <td>0.404139</td>\n",
              "      <td>0.887364</td>\n",
              "      <td>0.638344</td>\n",
              "      <td>0.553377</td>\n",
              "    </tr>\n",
              "    <tr>\n",
              "      <th>std</th>\n",
              "      <td>9.432617</td>\n",
              "      <td>0.407701</td>\n",
              "      <td>0.851832</td>\n",
              "      <td>18.514154</td>\n",
              "      <td>109.384145</td>\n",
              "      <td>0.423046</td>\n",
              "      <td>0.631671</td>\n",
              "      <td>25.460334</td>\n",
              "      <td>0.490992</td>\n",
              "      <td>1.066570</td>\n",
              "      <td>0.607056</td>\n",
              "      <td>0.497414</td>\n",
              "    </tr>\n",
              "    <tr>\n",
              "      <th>min</th>\n",
              "      <td>28.000000</td>\n",
              "      <td>1.000000</td>\n",
              "      <td>1.000000</td>\n",
              "      <td>0.000000</td>\n",
              "      <td>0.000000</td>\n",
              "      <td>0.000000</td>\n",
              "      <td>0.000000</td>\n",
              "      <td>60.000000</td>\n",
              "      <td>0.000000</td>\n",
              "      <td>-2.600000</td>\n",
              "      <td>0.000000</td>\n",
              "      <td>0.000000</td>\n",
              "    </tr>\n",
              "    <tr>\n",
              "      <th>25%</th>\n",
              "      <td>47.000000</td>\n",
              "      <td>1.000000</td>\n",
              "      <td>2.000000</td>\n",
              "      <td>120.000000</td>\n",
              "      <td>173.250000</td>\n",
              "      <td>0.000000</td>\n",
              "      <td>1.000000</td>\n",
              "      <td>120.000000</td>\n",
              "      <td>0.000000</td>\n",
              "      <td>0.000000</td>\n",
              "      <td>0.000000</td>\n",
              "      <td>0.000000</td>\n",
              "    </tr>\n",
              "    <tr>\n",
              "      <th>50%</th>\n",
              "      <td>54.000000</td>\n",
              "      <td>1.000000</td>\n",
              "      <td>3.000000</td>\n",
              "      <td>130.000000</td>\n",
              "      <td>223.000000</td>\n",
              "      <td>0.000000</td>\n",
              "      <td>1.000000</td>\n",
              "      <td>138.000000</td>\n",
              "      <td>0.000000</td>\n",
              "      <td>0.600000</td>\n",
              "      <td>1.000000</td>\n",
              "      <td>1.000000</td>\n",
              "    </tr>\n",
              "    <tr>\n",
              "      <th>75%</th>\n",
              "      <td>60.000000</td>\n",
              "      <td>1.000000</td>\n",
              "      <td>3.000000</td>\n",
              "      <td>140.000000</td>\n",
              "      <td>267.000000</td>\n",
              "      <td>0.000000</td>\n",
              "      <td>1.000000</td>\n",
              "      <td>156.000000</td>\n",
              "      <td>1.000000</td>\n",
              "      <td>1.500000</td>\n",
              "      <td>1.000000</td>\n",
              "      <td>1.000000</td>\n",
              "    </tr>\n",
              "    <tr>\n",
              "      <th>max</th>\n",
              "      <td>77.000000</td>\n",
              "      <td>2.000000</td>\n",
              "      <td>4.000000</td>\n",
              "      <td>200.000000</td>\n",
              "      <td>603.000000</td>\n",
              "      <td>1.000000</td>\n",
              "      <td>2.000000</td>\n",
              "      <td>202.000000</td>\n",
              "      <td>1.000000</td>\n",
              "      <td>6.200000</td>\n",
              "      <td>2.000000</td>\n",
              "      <td>1.000000</td>\n",
              "    </tr>\n",
              "  </tbody>\n",
              "</table>\n",
              "</div>\n",
              "      <button class=\"colab-df-convert\" onclick=\"convertToInteractive('df-ece97f4e-4c85-47de-9b0e-58de20e0afab')\"\n",
              "              title=\"Convert this dataframe to an interactive table.\"\n",
              "              style=\"display:none;\">\n",
              "        \n",
              "  <svg xmlns=\"http://www.w3.org/2000/svg\" height=\"24px\"viewBox=\"0 0 24 24\"\n",
              "       width=\"24px\">\n",
              "    <path d=\"M0 0h24v24H0V0z\" fill=\"none\"/>\n",
              "    <path d=\"M18.56 5.44l.94 2.06.94-2.06 2.06-.94-2.06-.94-.94-2.06-.94 2.06-2.06.94zm-11 1L8.5 8.5l.94-2.06 2.06-.94-2.06-.94L8.5 2.5l-.94 2.06-2.06.94zm10 10l.94 2.06.94-2.06 2.06-.94-2.06-.94-.94-2.06-.94 2.06-2.06.94z\"/><path d=\"M17.41 7.96l-1.37-1.37c-.4-.4-.92-.59-1.43-.59-.52 0-1.04.2-1.43.59L10.3 9.45l-7.72 7.72c-.78.78-.78 2.05 0 2.83L4 21.41c.39.39.9.59 1.41.59.51 0 1.02-.2 1.41-.59l7.78-7.78 2.81-2.81c.8-.78.8-2.07 0-2.86zM5.41 20L4 18.59l7.72-7.72 1.47 1.35L5.41 20z\"/>\n",
              "  </svg>\n",
              "      </button>\n",
              "      \n",
              "  <style>\n",
              "    .colab-df-container {\n",
              "      display:flex;\n",
              "      flex-wrap:wrap;\n",
              "      gap: 12px;\n",
              "    }\n",
              "\n",
              "    .colab-df-convert {\n",
              "      background-color: #E8F0FE;\n",
              "      border: none;\n",
              "      border-radius: 50%;\n",
              "      cursor: pointer;\n",
              "      display: none;\n",
              "      fill: #1967D2;\n",
              "      height: 32px;\n",
              "      padding: 0 0 0 0;\n",
              "      width: 32px;\n",
              "    }\n",
              "\n",
              "    .colab-df-convert:hover {\n",
              "      background-color: #E2EBFA;\n",
              "      box-shadow: 0px 1px 2px rgba(60, 64, 67, 0.3), 0px 1px 3px 1px rgba(60, 64, 67, 0.15);\n",
              "      fill: #174EA6;\n",
              "    }\n",
              "\n",
              "    [theme=dark] .colab-df-convert {\n",
              "      background-color: #3B4455;\n",
              "      fill: #D2E3FC;\n",
              "    }\n",
              "\n",
              "    [theme=dark] .colab-df-convert:hover {\n",
              "      background-color: #434B5C;\n",
              "      box-shadow: 0px 1px 3px 1px rgba(0, 0, 0, 0.15);\n",
              "      filter: drop-shadow(0px 1px 2px rgba(0, 0, 0, 0.3));\n",
              "      fill: #FFFFFF;\n",
              "    }\n",
              "  </style>\n",
              "\n",
              "      <script>\n",
              "        const buttonEl =\n",
              "          document.querySelector('#df-ece97f4e-4c85-47de-9b0e-58de20e0afab button.colab-df-convert');\n",
              "        buttonEl.style.display =\n",
              "          google.colab.kernel.accessAllowed ? 'block' : 'none';\n",
              "\n",
              "        async function convertToInteractive(key) {\n",
              "          const element = document.querySelector('#df-ece97f4e-4c85-47de-9b0e-58de20e0afab');\n",
              "          const dataTable =\n",
              "            await google.colab.kernel.invokeFunction('convertToInteractive',\n",
              "                                                     [key], {});\n",
              "          if (!dataTable) return;\n",
              "\n",
              "          const docLinkHtml = 'Like what you see? Visit the ' +\n",
              "            '<a target=\"_blank\" href=https://colab.research.google.com/notebooks/data_table.ipynb>data table notebook</a>'\n",
              "            + ' to learn more about interactive tables.';\n",
              "          element.innerHTML = '';\n",
              "          dataTable['output_type'] = 'display_data';\n",
              "          await google.colab.output.renderOutput(dataTable, element);\n",
              "          const docLink = document.createElement('div');\n",
              "          docLink.innerHTML = docLinkHtml;\n",
              "          element.appendChild(docLink);\n",
              "        }\n",
              "      </script>\n",
              "    </div>\n",
              "  </div>\n",
              "  "
            ]
          },
          "metadata": {},
          "execution_count": 6
        }
      ]
    },
    {
      "cell_type": "markdown",
      "source": [
        "---"
      ],
      "metadata": {
        "id": "GCCB0X21pldH"
      }
    },
    {
      "cell_type": "code",
      "source": [
        "#Mapa de Calor de Enfermedad del corazon\n",
        "plt.figure(figsize=(12, 16))\n",
        "map_calor2 = sns.heatmap(data2.corr(),square = True, annot = True)\n",
        "map_calor2"
      ],
      "metadata": {
        "colab": {
          "base_uri": "https://localhost:8080/",
          "height": 928
        },
        "id": "HrhmeqXKuCHp",
        "outputId": "c1ce6caf-50a7-46a0-bc09-e72148952c27"
      },
      "execution_count": null,
      "outputs": [
        {
          "output_type": "execute_result",
          "data": {
            "text/plain": [
              "<matplotlib.axes._subplots.AxesSubplot at 0x7f80070af7c0>"
            ]
          },
          "metadata": {},
          "execution_count": 74
        },
        {
          "output_type": "display_data",
          "data": {
            "text/plain": [
              "<Figure size 864x1152 with 2 Axes>"
            ],
            "image/png": "[encoded data removed]"
          },
          "metadata": {
            "needs_background": "light"
          }
        }
      ]
    },
    {
      "cell_type": "markdown",
      "source": [
        "---"
      ],
      "metadata": {
        "id": "vDHFiATjpkew"
      }
    },
    {
      "cell_type": "markdown",
      "source": [
        "**La característica que tendremos en cuenta para el estudio será la Calidad del vino**\n",
        "\n"
      ],
      "metadata": {
        "id": "XNPp_ZUgrdkB"
      }
    },
    {
      "cell_type": "code",
      "source": [
        "#separamos datos de entrada y salida HEART\n",
        "x_data2 = data2.drop('HeartDisease', axis=1)\n",
        "y_data2 = data2['HeartDisease']"
      ],
      "metadata": {
        "id": "kr6Fkgh0wSFh"
      },
      "execution_count": 6,
      "outputs": []
    },
    {
      "cell_type": "code",
      "source": [
        "x_train2, x_test2, y_train2, y_test2 = train_test_split(x_data2,y_data2, random_state=1, test_size=0.75)\n",
        "data2.head()"
      ],
      "metadata": {
        "colab": {
          "base_uri": "https://localhost:8080/",
          "height": 206
        },
        "id": "ZHZOz2KTwguA",
        "outputId": "8e16cfce-f41a-422c-f078-dfc909458753"
      },
      "execution_count": null,
      "outputs": [
        {
          "output_type": "execute_result",
          "data": {
            "text/plain": [
              "   Age  Sex  ChestPainType  RestingBP  Cholesterol  FastingBS  RestingECG  \\\n",
              "0   40    1              1        140          289          0           1   \n",
              "1   49    2              2        160          180          0           1   \n",
              "2   37    1              1        130          283          0           0   \n",
              "3   48    2              3        138          214          0           1   \n",
              "4   54    1              2        150          195          0           1   \n",
              "\n",
              "   MaxHR  ExerciseAngina  Oldpeak  ST_Slope  HeartDisease  \n",
              "0    172               0      0.0         0             0  \n",
              "1    156               0      1.0         1             1  \n",
              "2     98               0      0.0         0             0  \n",
              "3    108               1      1.5         1             1  \n",
              "4    122               0      0.0         0             0  "
            ],
            "text/html": [
              "\n",
              "  <div id=\"df-1f9399c7-6e76-4214-844f-e6b758526713\">\n",
              "    <div class=\"colab-df-container\">\n",
              "      <div>\n",
              "<style scoped>\n",
              "    .dataframe tbody tr th:only-of-type {\n",
              "        vertical-align: middle;\n",
              "    }\n",
              "\n",
              "    .dataframe tbody tr th {\n",
              "        vertical-align: top;\n",
              "    }\n",
              "\n",
              "    .dataframe thead th {\n",
              "        text-align: right;\n",
              "    }\n",
              "</style>\n",
              "<table border=\"1\" class=\"dataframe\">\n",
              "  <thead>\n",
              "    <tr style=\"text-align: right;\">\n",
              "      <th></th>\n",
              "      <th>Age</th>\n",
              "      <th>Sex</th>\n",
              "      <th>ChestPainType</th>\n",
              "      <th>RestingBP</th>\n",
              "      <th>Cholesterol</th>\n",
              "      <th>FastingBS</th>\n",
              "      <th>RestingECG</th>\n",
              "      <th>MaxHR</th>\n",
              "      <th>ExerciseAngina</th>\n",
              "      <th>Oldpeak</th>\n",
              "      <th>ST_Slope</th>\n",
              "      <th>HeartDisease</th>\n",
              "    </tr>\n",
              "  </thead>\n",
              "  <tbody>\n",
              "    <tr>\n",
              "      <th>0</th>\n",
              "      <td>40</td>\n",
              "      <td>1</td>\n",
              "      <td>1</td>\n",
              "      <td>140</td>\n",
              "      <td>289</td>\n",
              "      <td>0</td>\n",
              "      <td>1</td>\n",
              "      <td>172</td>\n",
              "      <td>0</td>\n",
              "      <td>0.0</td>\n",
              "      <td>0</td>\n",
              "      <td>0</td>\n",
              "    </tr>\n",
              "    <tr>\n",
              "      <th>1</th>\n",
              "      <td>49</td>\n",
              "      <td>2</td>\n",
              "      <td>2</td>\n",
              "      <td>160</td>\n",
              "      <td>180</td>\n",
              "      <td>0</td>\n",
              "      <td>1</td>\n",
              "      <td>156</td>\n",
              "      <td>0</td>\n",
              "      <td>1.0</td>\n",
              "      <td>1</td>\n",
              "      <td>1</td>\n",
              "    </tr>\n",
              "    <tr>\n",
              "      <th>2</th>\n",
              "      <td>37</td>\n",
              "      <td>1</td>\n",
              "      <td>1</td>\n",
              "      <td>130</td>\n",
              "      <td>283</td>\n",
              "      <td>0</td>\n",
              "      <td>0</td>\n",
              "      <td>98</td>\n",
              "      <td>0</td>\n",
              "      <td>0.0</td>\n",
              "      <td>0</td>\n",
              "      <td>0</td>\n",
              "    </tr>\n",
              "    <tr>\n",
              "      <th>3</th>\n",
              "      <td>48</td>\n",
              "      <td>2</td>\n",
              "      <td>3</td>\n",
              "      <td>138</td>\n",
              "      <td>214</td>\n",
              "      <td>0</td>\n",
              "      <td>1</td>\n",
              "      <td>108</td>\n",
              "      <td>1</td>\n",
              "      <td>1.5</td>\n",
              "      <td>1</td>\n",
              "      <td>1</td>\n",
              "    </tr>\n",
              "    <tr>\n",
              "      <th>4</th>\n",
              "      <td>54</td>\n",
              "      <td>1</td>\n",
              "      <td>2</td>\n",
              "      <td>150</td>\n",
              "      <td>195</td>\n",
              "      <td>0</td>\n",
              "      <td>1</td>\n",
              "      <td>122</td>\n",
              "      <td>0</td>\n",
              "      <td>0.0</td>\n",
              "      <td>0</td>\n",
              "      <td>0</td>\n",
              "    </tr>\n",
              "  </tbody>\n",
              "</table>\n",
              "</div>\n",
              "      <button class=\"colab-df-convert\" onclick=\"convertToInteractive('df-1f9399c7-6e76-4214-844f-e6b758526713')\"\n",
              "              title=\"Convert this dataframe to an interactive table.\"\n",
              "              style=\"display:none;\">\n",
              "        \n",
              "  <svg xmlns=\"http://www.w3.org/2000/svg\" height=\"24px\"viewBox=\"0 0 24 24\"\n",
              "       width=\"24px\">\n",
              "    <path d=\"M0 0h24v24H0V0z\" fill=\"none\"/>\n",
              "    <path d=\"M18.56 5.44l.94 2.06.94-2.06 2.06-.94-2.06-.94-.94-2.06-.94 2.06-2.06.94zm-11 1L8.5 8.5l.94-2.06 2.06-.94-2.06-.94L8.5 2.5l-.94 2.06-2.06.94zm10 10l.94 2.06.94-2.06 2.06-.94-2.06-.94-.94-2.06-.94 2.06-2.06.94z\"/><path d=\"M17.41 7.96l-1.37-1.37c-.4-.4-.92-.59-1.43-.59-.52 0-1.04.2-1.43.59L10.3 9.45l-7.72 7.72c-.78.78-.78 2.05 0 2.83L4 21.41c.39.39.9.59 1.41.59.51 0 1.02-.2 1.41-.59l7.78-7.78 2.81-2.81c.8-.78.8-2.07 0-2.86zM5.41 20L4 18.59l7.72-7.72 1.47 1.35L5.41 20z\"/>\n",
              "  </svg>\n",
              "      </button>\n",
              "      \n",
              "  <style>\n",
              "    .colab-df-container {\n",
              "      display:flex;\n",
              "      flex-wrap:wrap;\n",
              "      gap: 12px;\n",
              "    }\n",
              "\n",
              "    .colab-df-convert {\n",
              "      background-color: #E8F0FE;\n",
              "      border: none;\n",
              "      border-radius: 50%;\n",
              "      cursor: pointer;\n",
              "      display: none;\n",
              "      fill: #1967D2;\n",
              "      height: 32px;\n",
              "      padding: 0 0 0 0;\n",
              "      width: 32px;\n",
              "    }\n",
              "\n",
              "    .colab-df-convert:hover {\n",
              "      background-color: #E2EBFA;\n",
              "      box-shadow: 0px 1px 2px rgba(60, 64, 67, 0.3), 0px 1px 3px 1px rgba(60, 64, 67, 0.15);\n",
              "      fill: #174EA6;\n",
              "    }\n",
              "\n",
              "    [theme=dark] .colab-df-convert {\n",
              "      background-color: #3B4455;\n",
              "      fill: #D2E3FC;\n",
              "    }\n",
              "\n",
              "    [theme=dark] .colab-df-convert:hover {\n",
              "      background-color: #434B5C;\n",
              "      box-shadow: 0px 1px 3px 1px rgba(0, 0, 0, 0.15);\n",
              "      filter: drop-shadow(0px 1px 2px rgba(0, 0, 0, 0.3));\n",
              "      fill: #FFFFFF;\n",
              "    }\n",
              "  </style>\n",
              "\n",
              "      <script>\n",
              "        const buttonEl =\n",
              "          document.querySelector('#df-1f9399c7-6e76-4214-844f-e6b758526713 button.colab-df-convert');\n",
              "        buttonEl.style.display =\n",
              "          google.colab.kernel.accessAllowed ? 'block' : 'none';\n",
              "\n",
              "        async function convertToInteractive(key) {\n",
              "          const element = document.querySelector('#df-1f9399c7-6e76-4214-844f-e6b758526713');\n",
              "          const dataTable =\n",
              "            await google.colab.kernel.invokeFunction('convertToInteractive',\n",
              "                                                     [key], {});\n",
              "          if (!dataTable) return;\n",
              "\n",
              "          const docLinkHtml = 'Like what you see? Visit the ' +\n",
              "            '<a target=\"_blank\" href=https://colab.research.google.com/notebooks/data_table.ipynb>data table notebook</a>'\n",
              "            + ' to learn more about interactive tables.';\n",
              "          element.innerHTML = '';\n",
              "          dataTable['output_type'] = 'display_data';\n",
              "          await google.colab.output.renderOutput(dataTable, element);\n",
              "          const docLink = document.createElement('div');\n",
              "          docLink.innerHTML = docLinkHtml;\n",
              "          element.appendChild(docLink);\n",
              "        }\n",
              "      </script>\n",
              "    </div>\n",
              "  </div>\n",
              "  "
            ]
          },
          "metadata": {},
          "execution_count": 8
        }
      ]
    },
    {
      "cell_type": "markdown",
      "source": [
        "# **C** - Entrenamiento y Predicción"
      ],
      "metadata": {
        "id": "GqVes0yKSZVo"
      }
    },
    {
      "cell_type": "code",
      "source": [
        "model2 = GaussianNB()\n",
        "model2.fit(x_train2, y_train2)\n",
        "y_predict2 = model2.predict(x_test2)"
      ],
      "metadata": {
        "id": "nx6W92ZWzgF7"
      },
      "execution_count": null,
      "outputs": []
    },
    {
      "cell_type": "markdown",
      "source": [
        "# ***D*** - Evaluación"
      ],
      "metadata": {
        "id": "b0EGUxcOTY5m"
      }
    },
    {
      "cell_type": "code",
      "source": [
        "print(accuracy_score(y_test2,y_predict2)) #0.8345428156748912 - Tenemos un porcentaje del 83,45% de acierto\n",
        "y_predict2"
      ],
      "metadata": {
        "id": "4c_4IazUltlj",
        "colab": {
          "base_uri": "https://localhost:8080/"
        },
        "outputId": "b3cfa009-3ef5-41ca-b6ea-0c07ed78d8d3"
      },
      "execution_count": null,
      "outputs": [
        {
          "output_type": "stream",
          "name": "stdout",
          "text": [
            "0.8345428156748912\n"
          ]
        },
        {
          "output_type": "execute_result",
          "data": {
            "text/plain": [
              "array([1, 1, 1, 1, 1, 0, 1, 0, 0, 0, 0, 1, 0, 1, 1, 0, 1, 0, 1, 1, 0, 0,\n",
              "       1, 0, 0, 1, 0, 1, 1, 0, 0, 0, 0, 0, 1, 1, 1, 1, 0, 0, 1, 1, 1, 0,\n",
              "       0, 0, 1, 0, 0, 1, 0, 1, 1, 0, 1, 0, 1, 0, 1, 0, 1, 1, 1, 0, 0, 1,\n",
              "       1, 1, 0, 1, 1, 0, 1, 1, 0, 1, 0, 1, 1, 1, 1, 1, 1, 1, 1, 1, 0, 0,\n",
              "       0, 0, 1, 1, 0, 1, 1, 1, 1, 1, 1, 1, 0, 0, 1, 0, 1, 0, 0, 0, 1, 0,\n",
              "       0, 1, 0, 0, 0, 0, 1, 0, 0, 1, 1, 1, 1, 0, 1, 0, 1, 0, 1, 1, 0, 1,\n",
              "       0, 1, 1, 1, 1, 1, 0, 1, 1, 0, 0, 1, 1, 0, 1, 1, 0, 1, 1, 0, 0, 0,\n",
              "       0, 1, 0, 1, 1, 1, 1, 1, 1, 1, 1, 1, 0, 1, 1, 1, 0, 1, 1, 1, 1, 1,\n",
              "       0, 0, 1, 0, 0, 0, 0, 0, 1, 0, 0, 1, 0, 1, 1, 0, 0, 1, 1, 0, 1, 0,\n",
              "       0, 1, 1, 1, 1, 0, 1, 0, 0, 1, 1, 0, 0, 1, 1, 1, 0, 0, 0, 1, 1, 1,\n",
              "       0, 1, 1, 1, 1, 0, 0, 0, 1, 0, 0, 0, 0, 0, 1, 1, 1, 1, 0, 1, 0, 0,\n",
              "       1, 0, 1, 1, 0, 1, 1, 0, 1, 1, 0, 0, 0, 1, 1, 1, 0, 0, 0, 0, 1, 0,\n",
              "       1, 0, 0, 0, 1, 0, 1, 0, 1, 1, 1, 1, 1, 1, 1, 0, 0, 1, 0, 1, 0, 1,\n",
              "       1, 0, 1, 0, 1, 1, 0, 0, 0, 1, 1, 1, 1, 0, 1, 0, 0, 1, 1, 0, 0, 1,\n",
              "       1, 1, 1, 1, 1, 1, 0, 0, 0, 0, 0, 1, 0, 1, 0, 1, 0, 1, 0, 0, 0, 1,\n",
              "       1, 0, 0, 1, 1, 1, 0, 0, 1, 1, 0, 0, 0, 1, 0, 0, 0, 1, 0, 1, 0, 0,\n",
              "       0, 0, 1, 0, 1, 1, 0, 0, 0, 0, 0, 1, 1, 1, 1, 1, 1, 0, 1, 0, 0, 0,\n",
              "       0, 0, 0, 0, 1, 0, 1, 1, 1, 0, 1, 1, 1, 0, 0, 0, 1, 0, 1, 0, 1, 1,\n",
              "       1, 0, 0, 1, 1, 1, 0, 1, 0, 1, 1, 0, 0, 0, 1, 1, 1, 1, 0, 0, 0, 1,\n",
              "       1, 1, 1, 0, 1, 0, 1, 1, 0, 1, 1, 1, 1, 0, 0, 0, 0, 0, 0, 1, 1, 1,\n",
              "       0, 1, 0, 0, 0, 0, 1, 1, 1, 0, 0, 0, 1, 1, 1, 1, 1, 1, 0, 0, 1, 1,\n",
              "       1, 1, 0, 0, 0, 0, 0, 0, 1, 0, 1, 1, 0, 0, 1, 0, 1, 1, 1, 0, 1, 0,\n",
              "       1, 0, 0, 1, 0, 1, 0, 0, 1, 1, 0, 1, 1, 0, 1, 1, 0, 1, 0, 0, 1, 0,\n",
              "       1, 1, 0, 0, 1, 1, 0, 1, 1, 1, 0, 1, 1, 1, 1, 0, 0, 1, 0, 1, 1, 0,\n",
              "       1, 1, 0, 0, 1, 0, 1, 0, 0, 0, 1, 0, 0, 1, 0, 0, 0, 1, 0, 0, 0, 1,\n",
              "       1, 1, 1, 1, 1, 0, 1, 0, 1, 0, 1, 1, 1, 1, 0, 1, 1, 1, 1, 1, 1, 1,\n",
              "       0, 0, 1, 1, 0, 1, 0, 1, 0, 0, 1, 0, 1, 0, 1, 1, 0, 0, 0, 1, 0, 1,\n",
              "       0, 1, 0, 0, 0, 1, 0, 1, 1, 1, 0, 1, 1, 1, 0, 0, 1, 1, 1, 0, 1, 1,\n",
              "       0, 0, 0, 1, 1, 1, 1, 1, 0, 1, 1, 0, 1, 1, 1, 0, 1, 1, 0, 1, 0, 1,\n",
              "       1, 0, 0, 0, 1, 0, 0, 0, 0, 0, 1, 1, 1, 0, 1, 1, 0, 1, 0, 0, 0, 1,\n",
              "       1, 0, 1, 0, 0, 1, 0, 0, 0, 1, 1, 1, 0, 0, 1, 0, 0, 0, 0, 0, 0, 0,\n",
              "       1, 1, 1, 0, 0, 0, 1])"
            ]
          },
          "metadata": {},
          "execution_count": 10
        }
      ]
    },
    {
      "cell_type": "code",
      "source": [
        "ConfusionMatrixDisplay.from_predictions(y_test2, y_predict2)\n",
        "plt.tick_params(axis=u'both', which=u'both',length=0)\n",
        "plt.plot(b=None)"
      ],
      "metadata": {
        "colab": {
          "base_uri": "https://localhost:8080/",
          "height": 462
        },
        "id": "Rou8vsogl8c-",
        "outputId": "41d3c977-6c0e-4987-9978-65e2918cd566"
      },
      "execution_count": null,
      "outputs": [
        {
          "output_type": "execute_result",
          "data": {
            "text/plain": [
              "[]"
            ]
          },
          "metadata": {},
          "execution_count": 12
        },
        {
          "output_type": "display_data",
          "data": {
            "text/plain": [
              "<Figure size 640x480 with 2 Axes>"
            ],
            "image/png": "[encoded data removed]"
          },
          "metadata": {}
        }
      ]
    },
    {
      "cell_type": "markdown",
      "source": [
        "## **RED NEURONAL**\n",
        "\n",
        "---\n",
        "\n",
        "Creación de modelo basado en una red neuronal"
      ],
      "metadata": {
        "id": "ODaUtB5kqi4p"
      }
    },
    {
      "cell_type": "markdown",
      "source": [
        "### **Definir el conjunto de entrenamiento**"
      ],
      "metadata": {
        "id": "XYh38Bj7q6yC"
      }
    },
    {
      "cell_type": "code",
      "source": [
        "x_train, x_test, y_train, y_test = train_test_split(x_data2,y_data2, random_state=1, test_size=0.80)"
      ],
      "metadata": {
        "id": "7LUvdm1A051I"
      },
      "execution_count": 7,
      "outputs": []
    },
    {
      "cell_type": "code",
      "source": [
        "y_train = to_categorical(y_train, 10)\n",
        "y_test = to_categorical(y_test, 10)\n",
        "y_train.shape"
      ],
      "metadata": {
        "colab": {
          "base_uri": "https://localhost:8080/"
        },
        "id": "qUJDJDa-1Bb6",
        "outputId": "0b142a74-947c-4a70-914c-d7077b2f9498"
      },
      "execution_count": 8,
      "outputs": [
        {
          "output_type": "execute_result",
          "data": {
            "text/plain": [
              "(183, 10)"
            ]
          },
          "metadata": {},
          "execution_count": 8
        }
      ]
    },
    {
      "cell_type": "code",
      "source": [
        "plot_losses = livelossplot.PlotLossesKeras()"
      ],
      "metadata": {
        "id": "XN9AwgLZ1BiQ"
      },
      "execution_count": 9,
      "outputs": []
    },
    {
      "cell_type": "markdown",
      "source": [
        "### *Definir el modelo de red  y configuración del proceso de aprendizaje*"
      ],
      "metadata": {
        "id": "4zPKugMsrHF0"
      }
    },
    {
      "cell_type": "code",
      "source": [
        "from keras. initializers import TruncatedNormal \n",
        "init = TruncatedNormal(stddev=0.01, seed=1)\n",
        "# Build neural network\n",
        "model = tf.keras.models.Sequential()\n",
        "# Dense numero de neuronas, función de activación, ...\n",
        "model.add(tf.keras.layers.Dense(len(x_train.columns)*2, activation='relu', input_shape=(len(x_train.columns),), kernel_initializer='he_uniform')) # entradas: dimension de la imagen\n",
        "#model.add(tf.keras.layers.Dropout(0.5)) \n",
        "#model.add(tf.keras.layers.Dense(len(x_train.columns)*3, activation='relu')) # rectified linear unit \n",
        "#model.add(tf.keras.layers.Dropout(0.25))\n",
        "model.add(tf.keras.layers.Dense(10, activation='softmax',kernel_initializer=init)) # 10 número de salidas"
      ],
      "metadata": {
        "id": "l4a3HHF11Bna"
      },
      "execution_count": 10,
      "outputs": []
    },
    {
      "cell_type": "code",
      "source": [
        "batch_size = int(math.sqrt(len(x_train)))"
      ],
      "metadata": {
        "id": "g-RwGCxdspoc"
      },
      "execution_count": 11,
      "outputs": []
    },
    {
      "cell_type": "markdown",
      "source": [
        "### **Entrenar el modelo**"
      ],
      "metadata": {
        "id": "o5BjHmFTrNv5"
      }
    },
    {
      "cell_type": "code",
      "source": [
        "from keras.callbacks import EarlyStopping\n",
        "from keras.callbacks import ReduceLROnPlateau\n",
        "from keras.optimizers import Adam\n",
        "# Definir el optimizador\n",
        "optimizer = Adam(learning_rate=0.01)\n",
        "# Compilar el modelo\n",
        "model.compile(loss='binary_crossentropy', optimizer=optimizer, metrics=['accuracy'])\n",
        "# Definir reducción del learning rate\n",
        "reduce_lr = ReduceLROnPlateau(monitor='accuracy', factor=0.75, patience=32, mode='max', verbose=0)\n",
        "# Definir early stopping\n",
        "early_stop = EarlyStopping(monitor='accuracy', patience=64, mode='max', verbose=0)\n",
        "# fit the keras model on the dataset\n",
        "history = model.fit(x_train, y_train, epochs=2500, batch_size=batch_size,use_multiprocessing=True,validation_data=(x_test,y_test),callbacks=[early_stop,reduce_lr])"
      ],
      "metadata": {
        "id": "ayxkeiJG1BsI",
        "colab": {
          "base_uri": "https://localhost:8080/"
        },
        "outputId": "0d9714bd-72e6-4515-a45d-86a82141e9db"
      },
      "execution_count": 12,
      "outputs": [
        {
          "output_type": "stream",
          "name": "stdout",
          "text": [
            "Epoch 1/2500\n",
            "15/15 [==============================] - 2s 47ms/step - loss: 0.5145 - accuracy: 0.4973 - val_loss: 0.2064 - val_accuracy: 0.5891 - lr: 0.0100\n",
            "Epoch 2/2500\n",
            "15/15 [==============================] - 0s 20ms/step - loss: 0.1434 - accuracy: 0.5902 - val_loss: 0.1243 - val_accuracy: 0.6707 - lr: 0.0100\n",
            "Epoch 3/2500\n",
            "15/15 [==============================] - 0s 15ms/step - loss: 0.1334 - accuracy: 0.6284 - val_loss: 0.1150 - val_accuracy: 0.7075 - lr: 0.0100\n",
            "Epoch 4/2500\n",
            "15/15 [==============================] - 0s 11ms/step - loss: 0.1182 - accuracy: 0.6940 - val_loss: 0.1320 - val_accuracy: 0.6626 - lr: 0.0100\n",
            "Epoch 5/2500\n",
            "15/15 [==============================] - 0s 10ms/step - loss: 0.1828 - accuracy: 0.6503 - val_loss: 0.1136 - val_accuracy: 0.7211 - lr: 0.0100\n",
            "Epoch 6/2500\n",
            "15/15 [==============================] - 0s 14ms/step - loss: 0.1462 - accuracy: 0.6831 - val_loss: 0.1803 - val_accuracy: 0.5782 - lr: 0.0100\n",
            "Epoch 7/2500\n",
            "15/15 [==============================] - 0s 10ms/step - loss: 0.1398 - accuracy: 0.6393 - val_loss: 0.1165 - val_accuracy: 0.7156 - lr: 0.0100\n",
            "Epoch 8/2500\n",
            "15/15 [==============================] - 0s 14ms/step - loss: 0.1118 - accuracy: 0.7322 - val_loss: 0.1111 - val_accuracy: 0.7483 - lr: 0.0100\n",
            "Epoch 9/2500\n",
            "15/15 [==============================] - 0s 16ms/step - loss: 0.1080 - accuracy: 0.7268 - val_loss: 0.1150 - val_accuracy: 0.7034 - lr: 0.0100\n",
            "Epoch 10/2500\n",
            "15/15 [==============================] - 0s 9ms/step - loss: 0.1124 - accuracy: 0.7268 - val_loss: 0.1166 - val_accuracy: 0.7238 - lr: 0.0100\n",
            "Epoch 11/2500\n",
            "15/15 [==============================] - 0s 10ms/step - loss: 0.1065 - accuracy: 0.7322 - val_loss: 0.1159 - val_accuracy: 0.7129 - lr: 0.0100\n",
            "Epoch 12/2500\n",
            "15/15 [==============================] - 0s 9ms/step - loss: 0.1089 - accuracy: 0.7650 - val_loss: 0.1216 - val_accuracy: 0.7184 - lr: 0.0100\n",
            "Epoch 13/2500\n",
            "15/15 [==============================] - 0s 14ms/step - loss: 0.1075 - accuracy: 0.7377 - val_loss: 0.1149 - val_accuracy: 0.7129 - lr: 0.0100\n",
            "Epoch 14/2500\n",
            "15/15 [==============================] - 0s 10ms/step - loss: 0.1169 - accuracy: 0.7213 - val_loss: 0.1266 - val_accuracy: 0.6789 - lr: 0.0100\n",
            "Epoch 15/2500\n",
            "15/15 [==============================] - 0s 12ms/step - loss: 0.1126 - accuracy: 0.7322 - val_loss: 0.1080 - val_accuracy: 0.7524 - lr: 0.0100\n",
            "Epoch 16/2500\n",
            "15/15 [==============================] - 0s 14ms/step - loss: 0.1078 - accuracy: 0.7486 - val_loss: 0.1219 - val_accuracy: 0.6980 - lr: 0.0100\n",
            "Epoch 17/2500\n",
            "15/15 [==============================] - 0s 9ms/step - loss: 0.1063 - accuracy: 0.7213 - val_loss: 0.1154 - val_accuracy: 0.7252 - lr: 0.0100\n",
            "Epoch 18/2500\n",
            "15/15 [==============================] - 0s 10ms/step - loss: 0.1015 - accuracy: 0.7486 - val_loss: 0.1052 - val_accuracy: 0.7578 - lr: 0.0100\n",
            "Epoch 19/2500\n",
            "15/15 [==============================] - 0s 10ms/step - loss: 0.1004 - accuracy: 0.7596 - val_loss: 0.1050 - val_accuracy: 0.7619 - lr: 0.0100\n",
            "Epoch 20/2500\n",
            "15/15 [==============================] - 0s 15ms/step - loss: 0.0962 - accuracy: 0.7923 - val_loss: 0.1078 - val_accuracy: 0.7483 - lr: 0.0100\n",
            "Epoch 21/2500\n",
            "15/15 [==============================] - 0s 15ms/step - loss: 0.0980 - accuracy: 0.7705 - val_loss: 0.1043 - val_accuracy: 0.7646 - lr: 0.0100\n",
            "Epoch 22/2500\n",
            "15/15 [==============================] - 0s 10ms/step - loss: 0.0950 - accuracy: 0.7814 - val_loss: 0.1061 - val_accuracy: 0.7646 - lr: 0.0100\n",
            "Epoch 23/2500\n",
            "15/15 [==============================] - 0s 10ms/step - loss: 0.0971 - accuracy: 0.8142 - val_loss: 0.1090 - val_accuracy: 0.7565 - lr: 0.0100\n",
            "Epoch 24/2500\n",
            "15/15 [==============================] - 0s 9ms/step - loss: 0.1115 - accuracy: 0.7377 - val_loss: 0.1025 - val_accuracy: 0.7701 - lr: 0.0100\n",
            "Epoch 25/2500\n",
            "15/15 [==============================] - 0s 14ms/step - loss: 0.1564 - accuracy: 0.6776 - val_loss: 0.1351 - val_accuracy: 0.6653 - lr: 0.0100\n",
            "Epoch 26/2500\n",
            "15/15 [==============================] - 0s 14ms/step - loss: 0.1262 - accuracy: 0.6721 - val_loss: 0.1105 - val_accuracy: 0.7646 - lr: 0.0100\n",
            "Epoch 27/2500\n",
            "15/15 [==============================] - 0s 14ms/step - loss: 0.1061 - accuracy: 0.7486 - val_loss: 0.1063 - val_accuracy: 0.7660 - lr: 0.0100\n",
            "Epoch 28/2500\n",
            "15/15 [==============================] - 0s 14ms/step - loss: 0.0985 - accuracy: 0.7705 - val_loss: 0.1052 - val_accuracy: 0.7592 - lr: 0.0100\n",
            "Epoch 29/2500\n",
            "15/15 [==============================] - 0s 14ms/step - loss: 0.0955 - accuracy: 0.8033 - val_loss: 0.1069 - val_accuracy: 0.7483 - lr: 0.0100\n",
            "Epoch 30/2500\n",
            "15/15 [==============================] - 0s 17ms/step - loss: 0.1160 - accuracy: 0.7268 - val_loss: 0.1150 - val_accuracy: 0.6912 - lr: 0.0100\n",
            "Epoch 31/2500\n",
            "15/15 [==============================] - 0s 15ms/step - loss: 0.1126 - accuracy: 0.6721 - val_loss: 0.1123 - val_accuracy: 0.7524 - lr: 0.0100\n",
            "Epoch 32/2500\n",
            "15/15 [==============================] - 0s 15ms/step - loss: 0.1007 - accuracy: 0.7978 - val_loss: 0.1039 - val_accuracy: 0.7646 - lr: 0.0100\n",
            "Epoch 33/2500\n",
            "15/15 [==============================] - 0s 15ms/step - loss: 0.0909 - accuracy: 0.7978 - val_loss: 0.0992 - val_accuracy: 0.7701 - lr: 0.0100\n",
            "Epoch 34/2500\n",
            "15/15 [==============================] - 0s 15ms/step - loss: 0.0867 - accuracy: 0.8087 - val_loss: 0.1048 - val_accuracy: 0.7701 - lr: 0.0100\n",
            "Epoch 35/2500\n",
            "15/15 [==============================] - 0s 10ms/step - loss: 0.0907 - accuracy: 0.7978 - val_loss: 0.1038 - val_accuracy: 0.7796 - lr: 0.0100\n",
            "Epoch 36/2500\n",
            "15/15 [==============================] - 0s 16ms/step - loss: 0.0952 - accuracy: 0.7760 - val_loss: 0.0986 - val_accuracy: 0.7741 - lr: 0.0100\n",
            "Epoch 37/2500\n",
            "15/15 [==============================] - 0s 17ms/step - loss: 0.0885 - accuracy: 0.7923 - val_loss: 0.1088 - val_accuracy: 0.7483 - lr: 0.0100\n",
            "Epoch 38/2500\n",
            "15/15 [==============================] - 0s 16ms/step - loss: 0.0904 - accuracy: 0.7978 - val_loss: 0.1066 - val_accuracy: 0.7714 - lr: 0.0100\n",
            "Epoch 39/2500\n",
            "15/15 [==============================] - 0s 15ms/step - loss: 0.0924 - accuracy: 0.8033 - val_loss: 0.1004 - val_accuracy: 0.7891 - lr: 0.0100\n",
            "Epoch 40/2500\n",
            "15/15 [==============================] - 0s 14ms/step - loss: 0.0855 - accuracy: 0.8087 - val_loss: 0.1018 - val_accuracy: 0.7633 - lr: 0.0100\n",
            "Epoch 41/2500\n",
            "15/15 [==============================] - 0s 16ms/step - loss: 0.0958 - accuracy: 0.7814 - val_loss: 0.1001 - val_accuracy: 0.7701 - lr: 0.0100\n",
            "Epoch 42/2500\n",
            "15/15 [==============================] - 0s 14ms/step - loss: 0.0899 - accuracy: 0.7869 - val_loss: 0.0994 - val_accuracy: 0.7837 - lr: 0.0100\n",
            "Epoch 43/2500\n",
            "15/15 [==============================] - 0s 14ms/step - loss: 0.1032 - accuracy: 0.7705 - val_loss: 0.1220 - val_accuracy: 0.7048 - lr: 0.0100\n",
            "Epoch 44/2500\n",
            "15/15 [==============================] - 0s 13ms/step - loss: 0.0972 - accuracy: 0.7869 - val_loss: 0.1157 - val_accuracy: 0.7333 - lr: 0.0100\n",
            "Epoch 45/2500\n",
            "15/15 [==============================] - 0s 14ms/step - loss: 0.0902 - accuracy: 0.7760 - val_loss: 0.1004 - val_accuracy: 0.7891 - lr: 0.0100\n",
            "Epoch 46/2500\n",
            "15/15 [==============================] - 0s 13ms/step - loss: 0.0859 - accuracy: 0.8087 - val_loss: 0.0982 - val_accuracy: 0.7878 - lr: 0.0100\n",
            "Epoch 47/2500\n",
            "15/15 [==============================] - 0s 16ms/step - loss: 0.0855 - accuracy: 0.8142 - val_loss: 0.1015 - val_accuracy: 0.7728 - lr: 0.0100\n",
            "Epoch 48/2500\n",
            "15/15 [==============================] - 0s 16ms/step - loss: 0.0854 - accuracy: 0.8142 - val_loss: 0.0968 - val_accuracy: 0.7946 - lr: 0.0100\n",
            "Epoch 49/2500\n",
            "15/15 [==============================] - 0s 15ms/step - loss: 0.0806 - accuracy: 0.8306 - val_loss: 0.0936 - val_accuracy: 0.7986 - lr: 0.0100\n",
            "Epoch 50/2500\n",
            "15/15 [==============================] - 0s 15ms/step - loss: 0.0817 - accuracy: 0.8415 - val_loss: 0.0942 - val_accuracy: 0.7932 - lr: 0.0100\n",
            "Epoch 51/2500\n",
            "15/15 [==============================] - 0s 14ms/step - loss: 0.0826 - accuracy: 0.8142 - val_loss: 0.1014 - val_accuracy: 0.7878 - lr: 0.0100\n",
            "Epoch 52/2500\n",
            "15/15 [==============================] - 0s 10ms/step - loss: 0.0912 - accuracy: 0.8251 - val_loss: 0.1096 - val_accuracy: 0.7728 - lr: 0.0100\n",
            "Epoch 53/2500\n",
            "15/15 [==============================] - 0s 10ms/step - loss: 0.0851 - accuracy: 0.8415 - val_loss: 0.0922 - val_accuracy: 0.7986 - lr: 0.0100\n",
            "Epoch 54/2500\n",
            "15/15 [==============================] - 0s 15ms/step - loss: 0.0859 - accuracy: 0.8142 - val_loss: 0.0943 - val_accuracy: 0.7959 - lr: 0.0100\n",
            "Epoch 55/2500\n",
            "15/15 [==============================] - 0s 10ms/step - loss: 0.0876 - accuracy: 0.7978 - val_loss: 0.0977 - val_accuracy: 0.7837 - lr: 0.0100\n",
            "Epoch 56/2500\n",
            "15/15 [==============================] - 0s 15ms/step - loss: 0.0866 - accuracy: 0.8087 - val_loss: 0.1119 - val_accuracy: 0.7592 - lr: 0.0100\n",
            "Epoch 57/2500\n",
            "15/15 [==============================] - 0s 9ms/step - loss: 0.0844 - accuracy: 0.7923 - val_loss: 0.0987 - val_accuracy: 0.7769 - lr: 0.0100\n",
            "Epoch 58/2500\n",
            "15/15 [==============================] - 0s 15ms/step - loss: 0.0779 - accuracy: 0.8415 - val_loss: 0.0931 - val_accuracy: 0.8014 - lr: 0.0100\n",
            "Epoch 59/2500\n",
            "15/15 [==============================] - 0s 15ms/step - loss: 0.0825 - accuracy: 0.8251 - val_loss: 0.1155 - val_accuracy: 0.7592 - lr: 0.0100\n",
            "Epoch 60/2500\n",
            "15/15 [==============================] - 0s 9ms/step - loss: 0.1033 - accuracy: 0.7869 - val_loss: 0.1064 - val_accuracy: 0.7687 - lr: 0.0100\n",
            "Epoch 61/2500\n",
            "15/15 [==============================] - 0s 15ms/step - loss: 0.0864 - accuracy: 0.8142 - val_loss: 0.0965 - val_accuracy: 0.7973 - lr: 0.0100\n",
            "Epoch 62/2500\n",
            "15/15 [==============================] - 0s 14ms/step - loss: 0.0780 - accuracy: 0.8415 - val_loss: 0.0921 - val_accuracy: 0.8014 - lr: 0.0100\n",
            "Epoch 63/2500\n",
            "15/15 [==============================] - 0s 14ms/step - loss: 0.0885 - accuracy: 0.7923 - val_loss: 0.1031 - val_accuracy: 0.7973 - lr: 0.0100\n",
            "Epoch 64/2500\n",
            "15/15 [==============================] - 0s 10ms/step - loss: 0.0960 - accuracy: 0.7705 - val_loss: 0.0986 - val_accuracy: 0.7905 - lr: 0.0100\n",
            "Epoch 65/2500\n",
            "15/15 [==============================] - 0s 14ms/step - loss: 0.0819 - accuracy: 0.8251 - val_loss: 0.0916 - val_accuracy: 0.8068 - lr: 0.0100\n",
            "Epoch 66/2500\n",
            "15/15 [==============================] - 0s 15ms/step - loss: 0.0771 - accuracy: 0.8415 - val_loss: 0.0912 - val_accuracy: 0.8054 - lr: 0.0100\n",
            "Epoch 67/2500\n",
            "15/15 [==============================] - 0s 9ms/step - loss: 0.0783 - accuracy: 0.8415 - val_loss: 0.0926 - val_accuracy: 0.7973 - lr: 0.0100\n",
            "Epoch 68/2500\n",
            "15/15 [==============================] - 0s 9ms/step - loss: 0.0801 - accuracy: 0.8361 - val_loss: 0.1456 - val_accuracy: 0.6980 - lr: 0.0100\n",
            "Epoch 69/2500\n",
            "15/15 [==============================] - 0s 9ms/step - loss: 0.0922 - accuracy: 0.7814 - val_loss: 0.0928 - val_accuracy: 0.7905 - lr: 0.0100\n",
            "Epoch 70/2500\n",
            "15/15 [==============================] - 0s 9ms/step - loss: 0.0806 - accuracy: 0.8470 - val_loss: 0.0942 - val_accuracy: 0.8095 - lr: 0.0100\n",
            "Epoch 71/2500\n",
            "15/15 [==============================] - 0s 9ms/step - loss: 0.0792 - accuracy: 0.8361 - val_loss: 0.1012 - val_accuracy: 0.7878 - lr: 0.0100\n",
            "Epoch 72/2500\n",
            "15/15 [==============================] - 0s 15ms/step - loss: 0.0839 - accuracy: 0.8142 - val_loss: 0.0902 - val_accuracy: 0.8109 - lr: 0.0100\n",
            "Epoch 73/2500\n",
            "15/15 [==============================] - 0s 10ms/step - loss: 0.0791 - accuracy: 0.8470 - val_loss: 0.0917 - val_accuracy: 0.7973 - lr: 0.0100\n",
            "Epoch 74/2500\n",
            "15/15 [==============================] - 0s 14ms/step - loss: 0.0748 - accuracy: 0.8470 - val_loss: 0.1064 - val_accuracy: 0.7796 - lr: 0.0100\n",
            "Epoch 75/2500\n",
            "15/15 [==============================] - 0s 15ms/step - loss: 0.0737 - accuracy: 0.8415 - val_loss: 0.0942 - val_accuracy: 0.8082 - lr: 0.0100\n",
            "Epoch 76/2500\n",
            "15/15 [==============================] - 0s 10ms/step - loss: 0.0878 - accuracy: 0.7923 - val_loss: 0.1108 - val_accuracy: 0.7687 - lr: 0.0100\n",
            "Epoch 77/2500\n",
            "15/15 [==============================] - 0s 10ms/step - loss: 0.0797 - accuracy: 0.8525 - val_loss: 0.0965 - val_accuracy: 0.8068 - lr: 0.0100\n",
            "Epoch 78/2500\n",
            "15/15 [==============================] - 0s 16ms/step - loss: 0.0771 - accuracy: 0.8470 - val_loss: 0.0901 - val_accuracy: 0.8054 - lr: 0.0100\n",
            "Epoch 79/2500\n",
            "15/15 [==============================] - 0s 15ms/step - loss: 0.0743 - accuracy: 0.8415 - val_loss: 0.0911 - val_accuracy: 0.8054 - lr: 0.0100\n",
            "Epoch 80/2500\n",
            "15/15 [==============================] - 0s 9ms/step - loss: 0.0755 - accuracy: 0.8361 - val_loss: 0.1066 - val_accuracy: 0.7782 - lr: 0.0100\n",
            "Epoch 81/2500\n",
            "15/15 [==============================] - 0s 10ms/step - loss: 0.0880 - accuracy: 0.8087 - val_loss: 0.1029 - val_accuracy: 0.7878 - lr: 0.0100\n",
            "Epoch 82/2500\n",
            "15/15 [==============================] - 0s 15ms/step - loss: 0.0809 - accuracy: 0.8361 - val_loss: 0.0883 - val_accuracy: 0.8068 - lr: 0.0100\n",
            "Epoch 83/2500\n",
            "15/15 [==============================] - 0s 10ms/step - loss: 0.0815 - accuracy: 0.8142 - val_loss: 0.0929 - val_accuracy: 0.8027 - lr: 0.0100\n",
            "Epoch 84/2500\n",
            "15/15 [==============================] - 0s 15ms/step - loss: 0.0776 - accuracy: 0.8470 - val_loss: 0.0916 - val_accuracy: 0.8122 - lr: 0.0100\n",
            "Epoch 85/2500\n",
            "15/15 [==============================] - 0s 10ms/step - loss: 0.0778 - accuracy: 0.8197 - val_loss: 0.0944 - val_accuracy: 0.8041 - lr: 0.0100\n",
            "Epoch 86/2500\n",
            "15/15 [==============================] - 0s 15ms/step - loss: 0.0816 - accuracy: 0.8306 - val_loss: 0.0897 - val_accuracy: 0.8163 - lr: 0.0100\n",
            "Epoch 87/2500\n",
            "15/15 [==============================] - 0s 10ms/step - loss: 0.0745 - accuracy: 0.8361 - val_loss: 0.0956 - val_accuracy: 0.8054 - lr: 0.0100\n",
            "Epoch 88/2500\n",
            "15/15 [==============================] - 0s 14ms/step - loss: 0.0785 - accuracy: 0.8470 - val_loss: 0.0930 - val_accuracy: 0.8054 - lr: 0.0100\n",
            "Epoch 89/2500\n",
            "15/15 [==============================] - 0s 16ms/step - loss: 0.0817 - accuracy: 0.8361 - val_loss: 0.0911 - val_accuracy: 0.8054 - lr: 0.0100\n",
            "Epoch 90/2500\n",
            "15/15 [==============================] - 0s 15ms/step - loss: 0.0751 - accuracy: 0.8470 - val_loss: 0.0958 - val_accuracy: 0.8082 - lr: 0.0100\n",
            "Epoch 91/2500\n",
            "15/15 [==============================] - 0s 15ms/step - loss: 0.0729 - accuracy: 0.8415 - val_loss: 0.0901 - val_accuracy: 0.8122 - lr: 0.0100\n",
            "Epoch 92/2500\n",
            "15/15 [==============================] - 0s 10ms/step - loss: 0.0766 - accuracy: 0.8415 - val_loss: 0.0940 - val_accuracy: 0.8082 - lr: 0.0100\n",
            "Epoch 93/2500\n",
            "15/15 [==============================] - 0s 15ms/step - loss: 0.0786 - accuracy: 0.8470 - val_loss: 0.0900 - val_accuracy: 0.8068 - lr: 0.0100\n",
            "Epoch 94/2500\n",
            "15/15 [==============================] - 0s 11ms/step - loss: 0.0734 - accuracy: 0.8470 - val_loss: 0.0895 - val_accuracy: 0.8150 - lr: 0.0100\n",
            "Epoch 95/2500\n",
            "15/15 [==============================] - 0s 16ms/step - loss: 0.0754 - accuracy: 0.8306 - val_loss: 0.1283 - val_accuracy: 0.7401 - lr: 0.0100\n",
            "Epoch 96/2500\n",
            "15/15 [==============================] - 0s 15ms/step - loss: 0.0993 - accuracy: 0.7541 - val_loss: 0.0901 - val_accuracy: 0.8109 - lr: 0.0100\n",
            "Epoch 97/2500\n",
            "15/15 [==============================] - 0s 15ms/step - loss: 0.0746 - accuracy: 0.8306 - val_loss: 0.0909 - val_accuracy: 0.8150 - lr: 0.0100\n",
            "Epoch 98/2500\n",
            "15/15 [==============================] - 0s 15ms/step - loss: 0.0828 - accuracy: 0.8142 - val_loss: 0.1231 - val_accuracy: 0.7401 - lr: 0.0100\n",
            "Epoch 99/2500\n",
            "15/15 [==============================] - 0s 10ms/step - loss: 0.0826 - accuracy: 0.8306 - val_loss: 0.0905 - val_accuracy: 0.8082 - lr: 0.0100\n",
            "Epoch 100/2500\n",
            "15/15 [==============================] - 0s 15ms/step - loss: 0.0718 - accuracy: 0.8470 - val_loss: 0.0902 - val_accuracy: 0.8095 - lr: 0.0100\n",
            "Epoch 101/2500\n",
            "15/15 [==============================] - 0s 15ms/step - loss: 0.0724 - accuracy: 0.8525 - val_loss: 0.0928 - val_accuracy: 0.8109 - lr: 0.0100\n",
            "Epoch 102/2500\n",
            "15/15 [==============================] - 0s 17ms/step - loss: 0.0848 - accuracy: 0.8087 - val_loss: 0.1057 - val_accuracy: 0.7755 - lr: 0.0100\n",
            "Epoch 103/2500\n",
            "15/15 [==============================] - 0s 32ms/step - loss: 0.0910 - accuracy: 0.8087 - val_loss: 0.0950 - val_accuracy: 0.8136 - lr: 0.0100\n",
            "Epoch 104/2500\n",
            "15/15 [==============================] - 0s 34ms/step - loss: 0.0816 - accuracy: 0.8306 - val_loss: 0.1012 - val_accuracy: 0.7823 - lr: 0.0100\n",
            "Epoch 105/2500\n",
            "15/15 [==============================] - 0s 34ms/step - loss: 0.0736 - accuracy: 0.8361 - val_loss: 0.0926 - val_accuracy: 0.8000 - lr: 0.0100\n",
            "Epoch 106/2500\n",
            "15/15 [==============================] - 1s 49ms/step - loss: 0.0796 - accuracy: 0.8251 - val_loss: 0.0994 - val_accuracy: 0.7837 - lr: 0.0100\n",
            "Epoch 107/2500\n",
            "15/15 [==============================] - 1s 48ms/step - loss: 0.0749 - accuracy: 0.8361 - val_loss: 0.0890 - val_accuracy: 0.8163 - lr: 0.0100\n",
            "Epoch 108/2500\n",
            "15/15 [==============================] - 0s 20ms/step - loss: 0.0712 - accuracy: 0.8525 - val_loss: 0.0898 - val_accuracy: 0.8136 - lr: 0.0100\n",
            "Epoch 109/2500\n",
            "15/15 [==============================] - 0s 17ms/step - loss: 0.0704 - accuracy: 0.8361 - val_loss: 0.0914 - val_accuracy: 0.8109 - lr: 0.0100\n",
            "Epoch 110/2500\n",
            "15/15 [==============================] - 0s 18ms/step - loss: 0.0695 - accuracy: 0.8470 - val_loss: 0.0877 - val_accuracy: 0.8095 - lr: 0.0075\n",
            "Epoch 111/2500\n",
            "15/15 [==============================] - 0s 16ms/step - loss: 0.0729 - accuracy: 0.8470 - val_loss: 0.0913 - val_accuracy: 0.8177 - lr: 0.0075\n",
            "Epoch 112/2500\n",
            "15/15 [==============================] - 0s 19ms/step - loss: 0.0685 - accuracy: 0.8470 - val_loss: 0.0984 - val_accuracy: 0.7891 - lr: 0.0075\n",
            "Epoch 113/2500\n",
            "15/15 [==============================] - 0s 17ms/step - loss: 0.0912 - accuracy: 0.7978 - val_loss: 0.1001 - val_accuracy: 0.7986 - lr: 0.0075\n",
            "Epoch 114/2500\n",
            "15/15 [==============================] - 0s 20ms/step - loss: 0.0782 - accuracy: 0.8251 - val_loss: 0.0914 - val_accuracy: 0.8136 - lr: 0.0075\n",
            "Epoch 115/2500\n",
            "15/15 [==============================] - 0s 18ms/step - loss: 0.0742 - accuracy: 0.8087 - val_loss: 0.0910 - val_accuracy: 0.8095 - lr: 0.0075\n",
            "Epoch 116/2500\n",
            "15/15 [==============================] - 0s 15ms/step - loss: 0.0701 - accuracy: 0.8689 - val_loss: 0.0898 - val_accuracy: 0.8163 - lr: 0.0075\n",
            "Epoch 117/2500\n",
            "15/15 [==============================] - 0s 15ms/step - loss: 0.0756 - accuracy: 0.8525 - val_loss: 0.0919 - val_accuracy: 0.8136 - lr: 0.0075\n",
            "Epoch 118/2500\n",
            "15/15 [==============================] - 0s 15ms/step - loss: 0.0720 - accuracy: 0.8415 - val_loss: 0.0954 - val_accuracy: 0.7973 - lr: 0.0075\n",
            "Epoch 119/2500\n",
            "15/15 [==============================] - 0s 10ms/step - loss: 0.0718 - accuracy: 0.8579 - val_loss: 0.0918 - val_accuracy: 0.8122 - lr: 0.0075\n",
            "Epoch 120/2500\n",
            "15/15 [==============================] - 0s 10ms/step - loss: 0.0692 - accuracy: 0.8415 - val_loss: 0.0900 - val_accuracy: 0.8136 - lr: 0.0075\n",
            "Epoch 121/2500\n",
            "15/15 [==============================] - 0s 15ms/step - loss: 0.0806 - accuracy: 0.8306 - val_loss: 0.0940 - val_accuracy: 0.7973 - lr: 0.0075\n",
            "Epoch 122/2500\n",
            "15/15 [==============================] - 0s 15ms/step - loss: 0.0700 - accuracy: 0.8470 - val_loss: 0.0877 - val_accuracy: 0.8150 - lr: 0.0075\n",
            "Epoch 123/2500\n",
            "15/15 [==============================] - 0s 15ms/step - loss: 0.0679 - accuracy: 0.8361 - val_loss: 0.0957 - val_accuracy: 0.7959 - lr: 0.0075\n",
            "Epoch 124/2500\n",
            "15/15 [==============================] - 0s 14ms/step - loss: 0.0755 - accuracy: 0.8470 - val_loss: 0.0891 - val_accuracy: 0.8163 - lr: 0.0075\n",
            "Epoch 125/2500\n",
            "15/15 [==============================] - 0s 14ms/step - loss: 0.0744 - accuracy: 0.8525 - val_loss: 0.0870 - val_accuracy: 0.8109 - lr: 0.0075\n",
            "Epoch 126/2500\n",
            "15/15 [==============================] - 0s 9ms/step - loss: 0.0679 - accuracy: 0.8470 - val_loss: 0.0886 - val_accuracy: 0.8150 - lr: 0.0075\n",
            "Epoch 127/2500\n",
            "15/15 [==============================] - 0s 14ms/step - loss: 0.0693 - accuracy: 0.8361 - val_loss: 0.0923 - val_accuracy: 0.8177 - lr: 0.0075\n",
            "Epoch 128/2500\n",
            "15/15 [==============================] - 0s 10ms/step - loss: 0.0682 - accuracy: 0.8361 - val_loss: 0.0880 - val_accuracy: 0.8136 - lr: 0.0075\n",
            "Epoch 129/2500\n",
            "15/15 [==============================] - 0s 10ms/step - loss: 0.0704 - accuracy: 0.8470 - val_loss: 0.0914 - val_accuracy: 0.8095 - lr: 0.0075\n",
            "Epoch 130/2500\n",
            "15/15 [==============================] - 0s 10ms/step - loss: 0.0794 - accuracy: 0.8251 - val_loss: 0.1021 - val_accuracy: 0.7728 - lr: 0.0075\n",
            "Epoch 131/2500\n",
            "15/15 [==============================] - 0s 10ms/step - loss: 0.0786 - accuracy: 0.8415 - val_loss: 0.0921 - val_accuracy: 0.8150 - lr: 0.0075\n",
            "Epoch 132/2500\n",
            "15/15 [==============================] - 0s 10ms/step - loss: 0.0723 - accuracy: 0.8525 - val_loss: 0.0891 - val_accuracy: 0.8177 - lr: 0.0075\n",
            "Epoch 133/2500\n",
            "15/15 [==============================] - 0s 26ms/step - loss: 0.0709 - accuracy: 0.8579 - val_loss: 0.0995 - val_accuracy: 0.8218 - lr: 0.0075\n",
            "Epoch 134/2500\n",
            "15/15 [==============================] - 0s 19ms/step - loss: 0.0748 - accuracy: 0.8361 - val_loss: 0.0911 - val_accuracy: 0.8082 - lr: 0.0075\n",
            "Epoch 135/2500\n",
            "15/15 [==============================] - 0s 17ms/step - loss: 0.0677 - accuracy: 0.8579 - val_loss: 0.0945 - val_accuracy: 0.8163 - lr: 0.0075\n",
            "Epoch 136/2500\n",
            "15/15 [==============================] - 0s 18ms/step - loss: 0.0723 - accuracy: 0.8525 - val_loss: 0.0928 - val_accuracy: 0.8122 - lr: 0.0075\n",
            "Epoch 137/2500\n",
            "15/15 [==============================] - 0s 17ms/step - loss: 0.0673 - accuracy: 0.8525 - val_loss: 0.0948 - val_accuracy: 0.8204 - lr: 0.0075\n",
            "Epoch 138/2500\n",
            "15/15 [==============================] - 0s 16ms/step - loss: 0.0694 - accuracy: 0.8470 - val_loss: 0.0932 - val_accuracy: 0.8150 - lr: 0.0075\n",
            "Epoch 139/2500\n",
            "15/15 [==============================] - 0s 20ms/step - loss: 0.0729 - accuracy: 0.8361 - val_loss: 0.0955 - val_accuracy: 0.8109 - lr: 0.0075\n",
            "Epoch 140/2500\n",
            "15/15 [==============================] - 0s 32ms/step - loss: 0.0752 - accuracy: 0.8415 - val_loss: 0.0953 - val_accuracy: 0.8082 - lr: 0.0075\n",
            "Epoch 141/2500\n",
            "15/15 [==============================] - 0s 22ms/step - loss: 0.0684 - accuracy: 0.8579 - val_loss: 0.0934 - val_accuracy: 0.8109 - lr: 0.0075\n",
            "Epoch 142/2500\n",
            "15/15 [==============================] - 0s 22ms/step - loss: 0.0662 - accuracy: 0.8525 - val_loss: 0.0942 - val_accuracy: 0.8136 - lr: 0.0075\n",
            "Epoch 143/2500\n",
            "15/15 [==============================] - 0s 29ms/step - loss: 0.0688 - accuracy: 0.8634 - val_loss: 0.0901 - val_accuracy: 0.8150 - lr: 0.0075\n",
            "Epoch 144/2500\n",
            "15/15 [==============================] - 0s 29ms/step - loss: 0.0709 - accuracy: 0.8579 - val_loss: 0.0961 - val_accuracy: 0.8190 - lr: 0.0075\n",
            "Epoch 145/2500\n",
            "15/15 [==============================] - 1s 37ms/step - loss: 0.0700 - accuracy: 0.8525 - val_loss: 0.0896 - val_accuracy: 0.8109 - lr: 0.0075\n",
            "Epoch 146/2500\n",
            "15/15 [==============================] - 1s 48ms/step - loss: 0.0674 - accuracy: 0.8743 - val_loss: 0.0992 - val_accuracy: 0.8109 - lr: 0.0075\n",
            "Epoch 147/2500\n",
            "15/15 [==============================] - 1s 43ms/step - loss: 0.0736 - accuracy: 0.8470 - val_loss: 0.0955 - val_accuracy: 0.8082 - lr: 0.0075\n",
            "Epoch 148/2500\n",
            "15/15 [==============================] - 1s 57ms/step - loss: 0.0733 - accuracy: 0.8634 - val_loss: 0.1016 - val_accuracy: 0.7864 - lr: 0.0075\n",
            "Epoch 149/2500\n",
            "15/15 [==============================] - 0s 33ms/step - loss: 0.0683 - accuracy: 0.8470 - val_loss: 0.0919 - val_accuracy: 0.8082 - lr: 0.0075\n",
            "Epoch 150/2500\n",
            "15/15 [==============================] - 1s 40ms/step - loss: 0.0680 - accuracy: 0.8525 - val_loss: 0.0911 - val_accuracy: 0.8136 - lr: 0.0075\n",
            "Epoch 151/2500\n",
            "15/15 [==============================] - 0s 26ms/step - loss: 0.0831 - accuracy: 0.8306 - val_loss: 0.0951 - val_accuracy: 0.8027 - lr: 0.0075\n",
            "Epoch 152/2500\n",
            "15/15 [==============================] - 0s 20ms/step - loss: 0.0653 - accuracy: 0.8689 - val_loss: 0.0928 - val_accuracy: 0.8136 - lr: 0.0075\n",
            "Epoch 153/2500\n",
            "15/15 [==============================] - 0s 22ms/step - loss: 0.0690 - accuracy: 0.8525 - val_loss: 0.0917 - val_accuracy: 0.8109 - lr: 0.0075\n",
            "Epoch 154/2500\n",
            "15/15 [==============================] - 0s 14ms/step - loss: 0.0756 - accuracy: 0.8470 - val_loss: 0.1016 - val_accuracy: 0.7918 - lr: 0.0075\n",
            "Epoch 155/2500\n",
            "15/15 [==============================] - 0s 34ms/step - loss: 0.0678 - accuracy: 0.8525 - val_loss: 0.0878 - val_accuracy: 0.8122 - lr: 0.0075\n",
            "Epoch 156/2500\n",
            "15/15 [==============================] - 0s 15ms/step - loss: 0.0698 - accuracy: 0.8525 - val_loss: 0.0939 - val_accuracy: 0.8109 - lr: 0.0075\n",
            "Epoch 157/2500\n",
            "15/15 [==============================] - 0s 10ms/step - loss: 0.0696 - accuracy: 0.8361 - val_loss: 0.0903 - val_accuracy: 0.8082 - lr: 0.0075\n",
            "Epoch 158/2500\n",
            "15/15 [==============================] - 0s 9ms/step - loss: 0.0944 - accuracy: 0.7978 - val_loss: 0.1017 - val_accuracy: 0.7878 - lr: 0.0075\n",
            "Epoch 159/2500\n",
            "15/15 [==============================] - 0s 14ms/step - loss: 0.0724 - accuracy: 0.8470 - val_loss: 0.0917 - val_accuracy: 0.8109 - lr: 0.0075\n",
            "Epoch 160/2500\n",
            "15/15 [==============================] - 0s 15ms/step - loss: 0.0660 - accuracy: 0.8634 - val_loss: 0.0907 - val_accuracy: 0.8177 - lr: 0.0075\n",
            "Epoch 161/2500\n",
            "15/15 [==============================] - 0s 15ms/step - loss: 0.0675 - accuracy: 0.8415 - val_loss: 0.0943 - val_accuracy: 0.8068 - lr: 0.0075\n",
            "Epoch 162/2500\n",
            "15/15 [==============================] - 0s 26ms/step - loss: 0.0724 - accuracy: 0.8470 - val_loss: 0.0957 - val_accuracy: 0.8122 - lr: 0.0075\n",
            "Epoch 163/2500\n",
            "15/15 [==============================] - 0s 30ms/step - loss: 0.0712 - accuracy: 0.8251 - val_loss: 0.0981 - val_accuracy: 0.7918 - lr: 0.0075\n",
            "Epoch 164/2500\n",
            "15/15 [==============================] - 0s 21ms/step - loss: 0.0674 - accuracy: 0.8579 - val_loss: 0.0928 - val_accuracy: 0.8122 - lr: 0.0075\n",
            "Epoch 165/2500\n",
            "15/15 [==============================] - 0s 18ms/step - loss: 0.0849 - accuracy: 0.8033 - val_loss: 0.1034 - val_accuracy: 0.8122 - lr: 0.0075\n",
            "Epoch 166/2500\n",
            "15/15 [==============================] - 0s 18ms/step - loss: 0.1013 - accuracy: 0.7760 - val_loss: 0.1119 - val_accuracy: 0.7878 - lr: 0.0075\n",
            "Epoch 167/2500\n",
            "15/15 [==============================] - 0s 18ms/step - loss: 0.0809 - accuracy: 0.8634 - val_loss: 0.0926 - val_accuracy: 0.8136 - lr: 0.0075\n",
            "Epoch 168/2500\n",
            "15/15 [==============================] - 0s 18ms/step - loss: 0.0789 - accuracy: 0.8470 - val_loss: 0.0926 - val_accuracy: 0.8204 - lr: 0.0075\n",
            "Epoch 169/2500\n",
            "15/15 [==============================] - 0s 19ms/step - loss: 0.0742 - accuracy: 0.8251 - val_loss: 0.0972 - val_accuracy: 0.8082 - lr: 0.0075\n",
            "Epoch 170/2500\n",
            "15/15 [==============================] - 0s 10ms/step - loss: 0.0675 - accuracy: 0.8470 - val_loss: 0.0982 - val_accuracy: 0.8150 - lr: 0.0075\n",
            "Epoch 171/2500\n",
            "15/15 [==============================] - 0s 10ms/step - loss: 0.0670 - accuracy: 0.8634 - val_loss: 0.0949 - val_accuracy: 0.8218 - lr: 0.0075\n",
            "Epoch 172/2500\n",
            "15/15 [==============================] - 0s 10ms/step - loss: 0.0671 - accuracy: 0.8361 - val_loss: 0.0928 - val_accuracy: 0.8177 - lr: 0.0075\n",
            "Epoch 173/2500\n",
            "15/15 [==============================] - 0s 11ms/step - loss: 0.0748 - accuracy: 0.8415 - val_loss: 0.0991 - val_accuracy: 0.8190 - lr: 0.0075\n",
            "Epoch 174/2500\n",
            "15/15 [==============================] - 0s 14ms/step - loss: 0.0657 - accuracy: 0.8306 - val_loss: 0.1035 - val_accuracy: 0.7905 - lr: 0.0075\n",
            "Epoch 175/2500\n",
            "15/15 [==============================] - 0s 10ms/step - loss: 0.0689 - accuracy: 0.8525 - val_loss: 0.0912 - val_accuracy: 0.8095 - lr: 0.0075\n",
            "Epoch 176/2500\n",
            "15/15 [==============================] - 0s 15ms/step - loss: 0.0663 - accuracy: 0.8634 - val_loss: 0.0917 - val_accuracy: 0.8177 - lr: 0.0075\n",
            "Epoch 177/2500\n",
            "15/15 [==============================] - 0s 10ms/step - loss: 0.0664 - accuracy: 0.8525 - val_loss: 0.0997 - val_accuracy: 0.8190 - lr: 0.0075\n",
            "Epoch 178/2500\n",
            "15/15 [==============================] - 0s 14ms/step - loss: 0.0659 - accuracy: 0.8689 - val_loss: 0.0928 - val_accuracy: 0.8204 - lr: 0.0075\n",
            "Epoch 179/2500\n",
            "15/15 [==============================] - 0s 9ms/step - loss: 0.0652 - accuracy: 0.8525 - val_loss: 0.0995 - val_accuracy: 0.8109 - lr: 0.0056\n",
            "Epoch 180/2500\n",
            "15/15 [==============================] - 0s 9ms/step - loss: 0.0691 - accuracy: 0.8798 - val_loss: 0.0989 - val_accuracy: 0.8204 - lr: 0.0056\n",
            "Epoch 181/2500\n",
            "15/15 [==============================] - 0s 15ms/step - loss: 0.0675 - accuracy: 0.8525 - val_loss: 0.0942 - val_accuracy: 0.8150 - lr: 0.0056\n",
            "Epoch 182/2500\n",
            "15/15 [==============================] - 0s 15ms/step - loss: 0.0661 - accuracy: 0.8415 - val_loss: 0.0955 - val_accuracy: 0.8177 - lr: 0.0056\n",
            "Epoch 183/2500\n",
            "15/15 [==============================] - 0s 9ms/step - loss: 0.0660 - accuracy: 0.8798 - val_loss: 0.0997 - val_accuracy: 0.8177 - lr: 0.0056\n",
            "Epoch 184/2500\n",
            "15/15 [==============================] - 0s 10ms/step - loss: 0.0804 - accuracy: 0.8306 - val_loss: 0.0969 - val_accuracy: 0.8095 - lr: 0.0056\n",
            "Epoch 185/2500\n",
            "15/15 [==============================] - 0s 15ms/step - loss: 0.0724 - accuracy: 0.8689 - val_loss: 0.0994 - val_accuracy: 0.8068 - lr: 0.0056\n",
            "Epoch 186/2500\n",
            "15/15 [==============================] - 0s 14ms/step - loss: 0.0671 - accuracy: 0.8579 - val_loss: 0.0967 - val_accuracy: 0.8218 - lr: 0.0056\n",
            "Epoch 187/2500\n",
            "15/15 [==============================] - 0s 14ms/step - loss: 0.0653 - accuracy: 0.8525 - val_loss: 0.0941 - val_accuracy: 0.8190 - lr: 0.0056\n",
            "Epoch 188/2500\n",
            "15/15 [==============================] - 0s 14ms/step - loss: 0.0655 - accuracy: 0.8525 - val_loss: 0.1031 - val_accuracy: 0.8000 - lr: 0.0056\n",
            "Epoch 189/2500\n",
            "15/15 [==============================] - 0s 11ms/step - loss: 0.0814 - accuracy: 0.8197 - val_loss: 0.0975 - val_accuracy: 0.8122 - lr: 0.0056\n",
            "Epoch 190/2500\n",
            "15/15 [==============================] - 0s 10ms/step - loss: 0.0790 - accuracy: 0.8361 - val_loss: 0.0928 - val_accuracy: 0.8095 - lr: 0.0056\n",
            "Epoch 191/2500\n",
            "15/15 [==============================] - 0s 15ms/step - loss: 0.0660 - accuracy: 0.8525 - val_loss: 0.0972 - val_accuracy: 0.8204 - lr: 0.0056\n",
            "Epoch 192/2500\n",
            "15/15 [==============================] - 0s 15ms/step - loss: 0.0646 - accuracy: 0.8634 - val_loss: 0.0964 - val_accuracy: 0.8204 - lr: 0.0056\n",
            "Epoch 193/2500\n",
            "15/15 [==============================] - 0s 10ms/step - loss: 0.0638 - accuracy: 0.8579 - val_loss: 0.0982 - val_accuracy: 0.8163 - lr: 0.0056\n",
            "Epoch 194/2500\n",
            "15/15 [==============================] - 0s 10ms/step - loss: 0.0665 - accuracy: 0.8689 - val_loss: 0.0999 - val_accuracy: 0.8190 - lr: 0.0056\n",
            "Epoch 195/2500\n",
            "15/15 [==============================] - 0s 19ms/step - loss: 0.0662 - accuracy: 0.8470 - val_loss: 0.0965 - val_accuracy: 0.8218 - lr: 0.0056\n",
            "Epoch 196/2500\n",
            "15/15 [==============================] - 0s 16ms/step - loss: 0.0677 - accuracy: 0.8361 - val_loss: 0.1048 - val_accuracy: 0.8231 - lr: 0.0056\n",
            "Epoch 197/2500\n",
            "15/15 [==============================] - 0s 19ms/step - loss: 0.0738 - accuracy: 0.8579 - val_loss: 0.1013 - val_accuracy: 0.8190 - lr: 0.0056\n",
            "Epoch 198/2500\n",
            "15/15 [==============================] - 0s 13ms/step - loss: 0.0672 - accuracy: 0.8361 - val_loss: 0.0937 - val_accuracy: 0.8109 - lr: 0.0056\n",
            "Epoch 199/2500\n",
            "15/15 [==============================] - 0s 17ms/step - loss: 0.0664 - accuracy: 0.8689 - val_loss: 0.0978 - val_accuracy: 0.8122 - lr: 0.0056\n",
            "Epoch 200/2500\n",
            "15/15 [==============================] - 0s 18ms/step - loss: 0.0685 - accuracy: 0.8525 - val_loss: 0.0999 - val_accuracy: 0.8136 - lr: 0.0056\n",
            "Epoch 201/2500\n",
            "15/15 [==============================] - 0s 18ms/step - loss: 0.0715 - accuracy: 0.8525 - val_loss: 0.0996 - val_accuracy: 0.8163 - lr: 0.0056\n",
            "Epoch 202/2500\n",
            "15/15 [==============================] - 0s 15ms/step - loss: 0.0717 - accuracy: 0.8361 - val_loss: 0.0975 - val_accuracy: 0.8177 - lr: 0.0056\n",
            "Epoch 203/2500\n",
            "15/15 [==============================] - 0s 18ms/step - loss: 0.0664 - accuracy: 0.8634 - val_loss: 0.1001 - val_accuracy: 0.8163 - lr: 0.0056\n",
            "Epoch 204/2500\n",
            "15/15 [==============================] - 0s 15ms/step - loss: 0.0679 - accuracy: 0.8415 - val_loss: 0.0950 - val_accuracy: 0.8204 - lr: 0.0056\n",
            "Epoch 205/2500\n",
            "15/15 [==============================] - 0s 18ms/step - loss: 0.0660 - accuracy: 0.8634 - val_loss: 0.1003 - val_accuracy: 0.8204 - lr: 0.0056\n",
            "Epoch 206/2500\n",
            "15/15 [==============================] - 0s 18ms/step - loss: 0.0638 - accuracy: 0.8579 - val_loss: 0.0976 - val_accuracy: 0.8109 - lr: 0.0056\n",
            "Epoch 207/2500\n",
            "15/15 [==============================] - 0s 11ms/step - loss: 0.0715 - accuracy: 0.8525 - val_loss: 0.0981 - val_accuracy: 0.8163 - lr: 0.0056\n",
            "Epoch 208/2500\n",
            "15/15 [==============================] - 0s 16ms/step - loss: 0.0735 - accuracy: 0.8415 - val_loss: 0.0973 - val_accuracy: 0.8109 - lr: 0.0056\n",
            "Epoch 209/2500\n",
            "15/15 [==============================] - 0s 10ms/step - loss: 0.0700 - accuracy: 0.8415 - val_loss: 0.0988 - val_accuracy: 0.8177 - lr: 0.0056\n",
            "Epoch 210/2500\n",
            "15/15 [==============================] - 0s 12ms/step - loss: 0.0636 - accuracy: 0.8743 - val_loss: 0.0980 - val_accuracy: 0.8163 - lr: 0.0056\n",
            "Epoch 211/2500\n",
            "15/15 [==============================] - 0s 15ms/step - loss: 0.0639 - accuracy: 0.8579 - val_loss: 0.0991 - val_accuracy: 0.8150 - lr: 0.0056\n",
            "Epoch 212/2500\n",
            "15/15 [==============================] - 0s 10ms/step - loss: 0.0665 - accuracy: 0.8525 - val_loss: 0.0976 - val_accuracy: 0.8163 - lr: 0.0056\n",
            "Epoch 213/2500\n",
            "15/15 [==============================] - 0s 15ms/step - loss: 0.0635 - accuracy: 0.8743 - val_loss: 0.0996 - val_accuracy: 0.8136 - lr: 0.0042\n",
            "Epoch 214/2500\n",
            "15/15 [==============================] - 0s 10ms/step - loss: 0.0645 - accuracy: 0.8361 - val_loss: 0.0990 - val_accuracy: 0.8150 - lr: 0.0042\n",
            "Epoch 215/2500\n",
            "15/15 [==============================] - 0s 10ms/step - loss: 0.0643 - accuracy: 0.8689 - val_loss: 0.0988 - val_accuracy: 0.8122 - lr: 0.0042\n",
            "Epoch 216/2500\n",
            "15/15 [==============================] - 0s 9ms/step - loss: 0.0646 - accuracy: 0.8689 - val_loss: 0.1004 - val_accuracy: 0.8095 - lr: 0.0042\n",
            "Epoch 217/2500\n",
            "15/15 [==============================] - 0s 15ms/step - loss: 0.0627 - accuracy: 0.8743 - val_loss: 0.1004 - val_accuracy: 0.8163 - lr: 0.0042\n",
            "Epoch 218/2500\n",
            "15/15 [==============================] - 0s 15ms/step - loss: 0.0643 - accuracy: 0.8689 - val_loss: 0.1080 - val_accuracy: 0.8000 - lr: 0.0042\n",
            "Epoch 219/2500\n",
            "15/15 [==============================] - 0s 15ms/step - loss: 0.0703 - accuracy: 0.8634 - val_loss: 0.0986 - val_accuracy: 0.8163 - lr: 0.0042\n",
            "Epoch 220/2500\n",
            "15/15 [==============================] - 0s 15ms/step - loss: 0.0633 - accuracy: 0.8743 - val_loss: 0.0997 - val_accuracy: 0.8122 - lr: 0.0042\n",
            "Epoch 221/2500\n",
            "15/15 [==============================] - 0s 11ms/step - loss: 0.0642 - accuracy: 0.8689 - val_loss: 0.0997 - val_accuracy: 0.8150 - lr: 0.0042\n",
            "Epoch 222/2500\n",
            "15/15 [==============================] - 0s 15ms/step - loss: 0.0629 - accuracy: 0.8798 - val_loss: 0.1014 - val_accuracy: 0.8177 - lr: 0.0042\n",
            "Epoch 223/2500\n",
            "15/15 [==============================] - 0s 9ms/step - loss: 0.0635 - accuracy: 0.8689 - val_loss: 0.1002 - val_accuracy: 0.8122 - lr: 0.0042\n",
            "Epoch 224/2500\n",
            "15/15 [==============================] - 0s 15ms/step - loss: 0.0665 - accuracy: 0.8689 - val_loss: 0.1003 - val_accuracy: 0.8082 - lr: 0.0042\n",
            "Epoch 225/2500\n",
            "15/15 [==============================] - 0s 9ms/step - loss: 0.0640 - accuracy: 0.8689 - val_loss: 0.0993 - val_accuracy: 0.8122 - lr: 0.0042\n",
            "Epoch 226/2500\n",
            "15/15 [==============================] - 0s 14ms/step - loss: 0.0626 - accuracy: 0.8743 - val_loss: 0.1004 - val_accuracy: 0.8190 - lr: 0.0042\n",
            "Epoch 227/2500\n",
            "15/15 [==============================] - 0s 15ms/step - loss: 0.0628 - accuracy: 0.8689 - val_loss: 0.0998 - val_accuracy: 0.8095 - lr: 0.0042\n",
            "Epoch 228/2500\n",
            "15/15 [==============================] - 0s 15ms/step - loss: 0.0630 - accuracy: 0.8579 - val_loss: 0.0998 - val_accuracy: 0.8163 - lr: 0.0042\n",
            "Epoch 229/2500\n",
            "15/15 [==============================] - 0s 16ms/step - loss: 0.0635 - accuracy: 0.8798 - val_loss: 0.1053 - val_accuracy: 0.8150 - lr: 0.0042\n",
            "Epoch 230/2500\n",
            "15/15 [==============================] - 0s 9ms/step - loss: 0.0640 - accuracy: 0.8470 - val_loss: 0.1024 - val_accuracy: 0.8054 - lr: 0.0042\n",
            "Epoch 231/2500\n",
            "15/15 [==============================] - 0s 10ms/step - loss: 0.0624 - accuracy: 0.8743 - val_loss: 0.1031 - val_accuracy: 0.8150 - lr: 0.0042\n",
            "Epoch 232/2500\n",
            "15/15 [==============================] - 0s 10ms/step - loss: 0.0625 - accuracy: 0.8743 - val_loss: 0.1031 - val_accuracy: 0.8109 - lr: 0.0042\n",
            "Epoch 233/2500\n",
            "15/15 [==============================] - 0s 15ms/step - loss: 0.0634 - accuracy: 0.8579 - val_loss: 0.1017 - val_accuracy: 0.8136 - lr: 0.0042\n",
            "Epoch 234/2500\n",
            "15/15 [==============================] - 0s 11ms/step - loss: 0.0637 - accuracy: 0.8579 - val_loss: 0.1029 - val_accuracy: 0.8109 - lr: 0.0042\n",
            "Epoch 235/2500\n",
            "15/15 [==============================] - 0s 15ms/step - loss: 0.0634 - accuracy: 0.8634 - val_loss: 0.1054 - val_accuracy: 0.8163 - lr: 0.0042\n",
            "Epoch 236/2500\n",
            "15/15 [==============================] - 0s 15ms/step - loss: 0.0634 - accuracy: 0.8743 - val_loss: 0.1016 - val_accuracy: 0.8150 - lr: 0.0042\n",
            "Epoch 237/2500\n",
            "15/15 [==============================] - 0s 15ms/step - loss: 0.0640 - accuracy: 0.8798 - val_loss: 0.1027 - val_accuracy: 0.8190 - lr: 0.0042\n",
            "Epoch 238/2500\n",
            "15/15 [==============================] - 0s 9ms/step - loss: 0.0645 - accuracy: 0.8689 - val_loss: 0.0979 - val_accuracy: 0.8082 - lr: 0.0042\n",
            "Epoch 239/2500\n",
            "15/15 [==============================] - 0s 11ms/step - loss: 0.0637 - accuracy: 0.8743 - val_loss: 0.1066 - val_accuracy: 0.8150 - lr: 0.0042\n",
            "Epoch 240/2500\n",
            "15/15 [==============================] - 0s 15ms/step - loss: 0.0690 - accuracy: 0.8743 - val_loss: 0.1004 - val_accuracy: 0.8068 - lr: 0.0042\n",
            "Epoch 241/2500\n",
            "15/15 [==============================] - 0s 9ms/step - loss: 0.0686 - accuracy: 0.8525 - val_loss: 0.1037 - val_accuracy: 0.8163 - lr: 0.0042\n",
            "Epoch 242/2500\n",
            "15/15 [==============================] - 0s 15ms/step - loss: 0.0672 - accuracy: 0.8525 - val_loss: 0.1019 - val_accuracy: 0.8163 - lr: 0.0042\n",
            "Epoch 243/2500\n",
            "15/15 [==============================] - 0s 10ms/step - loss: 0.0619 - accuracy: 0.8798 - val_loss: 0.1031 - val_accuracy: 0.8109 - lr: 0.0042\n",
            "Epoch 244/2500\n",
            "15/15 [==============================] - 0s 15ms/step - loss: 0.0627 - accuracy: 0.8579 - val_loss: 0.1057 - val_accuracy: 0.8177 - lr: 0.0042\n"
          ]
        }
      ]
    },
    {
      "cell_type": "code",
      "source": [
        "score = model.evaluate(x_test, y_test, verbose=0)\n",
        "print('Test loss:', score[0])\n",
        "print('Test accuracy:', score[1])"
      ],
      "metadata": {
        "colab": {
          "base_uri": "https://localhost:8080/"
        },
        "id": "5ETKr9SK1B1t",
        "outputId": "2136e2d7-b4fb-4064-b85d-3b56023e3df0"
      },
      "execution_count": 13,
      "outputs": [
        {
          "output_type": "stream",
          "name": "stdout",
          "text": [
            "Test loss: 0.10572769492864609\n",
            "Test accuracy: 0.8176870942115784\n"
          ]
        }
      ]
    },
    {
      "cell_type": "code",
      "source": [
        "# Hacer predicciones con el modelo entrenado\n",
        "y_pred = model.predict(x_test)"
      ],
      "metadata": {
        "colab": {
          "base_uri": "https://localhost:8080/"
        },
        "id": "Nf8kiDy01B6B",
        "outputId": "a1b99fea-8eb2-455a-81bc-a92b85bfb100"
      },
      "execution_count": 14,
      "outputs": [
        {
          "output_type": "stream",
          "name": "stdout",
          "text": [
            "23/23 [==============================] - 0s 1ms/step\n"
          ]
        }
      ]
    },
    {
      "cell_type": "code",
      "source": [
        "y_pred"
      ],
      "metadata": {
        "colab": {
          "base_uri": "https://localhost:8080/"
        },
        "id": "80WX1yhn1EzT",
        "outputId": "4293d889-50fe-46cd-d16f-9012e6477692"
      },
      "execution_count": 15,
      "outputs": [
        {
          "output_type": "execute_result",
          "data": {
            "text/plain": [
              "array([[1.9780507e-03, 9.9802184e-01, 4.6396445e-10, ..., 1.9682106e-13,\n",
              "        1.0413740e-10, 6.5228611e-10],\n",
              "       [8.9523466e-03, 9.9104458e-01, 7.0239693e-08, ..., 2.5242819e-10,\n",
              "        2.4505201e-08, 9.6360338e-08],\n",
              "       [3.2673618e-03, 9.9673241e-01, 2.4553961e-09, ..., 2.1161072e-12,\n",
              "        6.3795086e-10, 3.4241046e-09],\n",
              "       ...,\n",
              "       [2.7836395e-02, 9.7208709e-01, 3.1533004e-06, ..., 5.7565824e-08,\n",
              "        1.5386642e-06, 4.2460956e-06],\n",
              "       [7.6574433e-01, 2.3423652e-01, 4.6542195e-07, ..., 2.8202194e-09,\n",
              "        1.8638238e-07, 7.4455897e-07],\n",
              "       [5.8789402e-03, 9.9412078e-01, 4.0280415e-09, ..., 3.9568821e-12,\n",
              "        1.0782574e-09, 5.6898823e-09]], dtype=float32)"
            ]
          },
          "metadata": {},
          "execution_count": 15
        }
      ]
    },
    {
      "cell_type": "code",
      "source": [
        "plt.plot(history.history['loss'], label='train_loss')\n",
        "plt.xlabel('Epochs')\n",
        "plt.ylabel('Loss')\n",
        "plt.legend()\n",
        "plt.show()"
      ],
      "metadata": {
        "colab": {
          "base_uri": "https://localhost:8080/",
          "height": 449
        },
        "id": "sqiKyXDY1E5M",
        "outputId": "b0a7a82b-15ee-4934-c6c9-410b939f4ef4"
      },
      "execution_count": 16,
      "outputs": [
        {
          "output_type": "display_data",
          "data": {
            "text/plain": [
              "<Figure size 640x480 with 1 Axes>"
            ],
            "image/png": "[encoded data removed]"
          },
          "metadata": {}
        }
      ]
    },
    {
      "cell_type": "code",
      "source": [
        "# Graficar la evolución de la métrica de evaluación (en este caso, precisión)\n",
        "plt.plot(history.history['accuracy'])\n",
        "plt.title('Precisión')\n",
        "plt.xlabel('Época')\n",
        "plt.ylabel('Precisión')\n",
        "plt.show()"
      ],
      "metadata": {
        "colab": {
          "base_uri": "https://localhost:8080/",
          "height": 474
        },
        "id": "9VkGsK2I1FBw",
        "outputId": "33f8f33f-f91b-4e13-fee2-b565abef1e6c"
      },
      "execution_count": 17,
      "outputs": [
        {
          "output_type": "display_data",
          "data": {
            "text/plain": [
              "<Figure size 640x480 with 1 Axes>"
            ],
            "image/png": "[encoded data removed]"
          },
          "metadata": {}
        }
      ]
    },
    {
      "cell_type": "code",
      "source": [
        "from keras.utils.vis_utils import plot_model\n",
        "plot_model(model, to_file='model.png', show_shapes=True, show_layer_names=True)"
      ],
      "metadata": {
        "colab": {
          "base_uri": "https://localhost:8080/",
          "height": 312
        },
        "id": "9UnyBUmi1FHa",
        "outputId": "276b099e-80dc-4b49-ba79-222c07945b15"
      },
      "execution_count": 18,
      "outputs": [
        {
          "output_type": "execute_result",
          "data": {
            "image/png": "[encoded data removed]",
            "text/plain": [
              "<IPython.core.display.Image object>"
            ]
          },
          "metadata": {},
          "execution_count": 18
        }
      ]
    },
    {
      "cell_type": "code",
      "source": [
        "import matplotlib.pyplot as plt\n",
        "\n",
        "# Obtener la estructura del modelo\n",
        "model_layers = [layer.output for layer in model.layers]\n",
        "layer_names = [layer.name for layer in model.layers]\n",
        "\n",
        "# Crear el diagrama\n",
        "fig, ax = plt.subplots(figsize=(12, 6))\n",
        "ax.set_title('Estructura del modelo')\n",
        "ax.axis('off')\n",
        "_ = plt.pie([layer.shape[-1] for layer in model_layers], labels=layer_names, autopct='%1.1f%%')\n",
        "plt.show()"
      ],
      "metadata": {
        "colab": {
          "base_uri": "https://localhost:8080/",
          "height": 521
        },
        "id": "yCZ9-UhJ1X9j",
        "outputId": "0bdc7827-2f64-4543-a500-18e88ce0689f"
      },
      "execution_count": 19,
      "outputs": [
        {
          "output_type": "display_data",
          "data": {
            "text/plain": [
              "<Figure size 1200x600 with 1 Axes>"
            ],
            "image/png": "[encoded data removed]"
          },
          "metadata": {}
        }
      ]
    },
    {
      "cell_type": "markdown",
      "source": [
        "## **Conclusión**\n",
        "\n",
        "---\n",
        "\n"
      ],
      "metadata": {
        "id": "6gkFz1ZHqJku"
      }
    },
    {
      "cell_type": "markdown",
      "source": [
        "Basándonos en los resultados de los dos modelos, podemos concluir que el algoritmo de naive Bayes Gaussian parece tener un mejor rendimiento que la red neuronal para clasificar entre presencia o ausencia de enfermedad del corazón.\n",
        "\n",
        "El algoritmo de naive Bayes Gaussian ha obtenido una exactitud de 0.83, lo que indica que el modelo ha clasificado correctamente el 83% de los casos del conjunto de datos. Por otro lado, la red neuronal ha obtenido una exactitud de 0.55 en un primer intento, después de varias modificaciones e intentos de entrenamiento, se ha mejorado significativamente su desempeño, obteniendo una exactitud de 0.817 y una pérdida (test loss) de 0.105. Esta mejora en el rendimiento indica que el modelo de red neuronal está clasificando correctamente una mayor proporción de casos en el conjunto de datos de prueba, lo cual es una buena señal.\n",
        "\n",
        "Sin embargo, a pesar de la mejora, el algoritmo de naive Bayes Gaussian sigue teniendo una exactitud ligeramente mayor con un valor de 0.83. Por lo tanto, todavía es posible que este algoritmo sea una mejor opción para la clasificación de los casos en el conjunto de datos.\n",
        "\n",
        "En general, la elección del modelo depende del conjunto de datos y el problema que se esté abordando, por lo que se recomienda probar varios modelos y ajustarlos adecuadamente para obtener los mejores resultados posibles. En este caso particular, dado que la exactitud es una métrica importante en el problema de clasificación de enfermedades, parece que el modelo de naive Bayes Gaussian es una mejor opción que la red neuronal."
      ],
      "metadata": {
        "id": "EQu_5-1bqMZ0"
      }
    }
  ]
}